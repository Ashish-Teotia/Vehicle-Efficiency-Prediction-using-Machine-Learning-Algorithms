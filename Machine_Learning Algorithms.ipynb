{
  "cells": [
    {
      "cell_type": "code",
      "execution_count": 30,
      "metadata": {
        "id": "DwJoN6ly2sq9"
      },
      "outputs": [],
      "source": [
        "import pandas as pd \n",
        "import numpy as np\n",
        "import matplotlib.pyplot as plt\n",
        "import seaborn as sns\n",
        "import statsmodels.formula.api as smf\n",
        "from sklearn.model_selection import train_test_split\n",
        "from sklearn.metrics import r2_score,mean_squared_error\n",
        "from sklearn.metrics import plot_confusion_matrix\n",
        "from sklearn.linear_model import LinearRegression\n",
        "from sklearn.tree import DecisionTreeRegressor\n",
        "from sklearn.ensemble import RandomForestRegressor\n",
        "import xgboost as xg\n",
        "from sklearn.neighbors import KNeighborsRegressor\n",
        "from sklearn.linear_model import Ridge\n",
        "from sklearn.linear_model import Lasso\n",
        "from sklearn.model_selection import GridSearchCV"
      ]
    },
    {
      "cell_type": "code",
      "execution_count": 31,
      "metadata": {
        "colab": {
          "base_uri": "https://localhost:8080/",
          "height": 363
        },
        "id": "rSOhyUIY3ASq",
        "outputId": "c394a81d-53f3-4baf-8b43-d54bc7e6436c"
      },
      "outputs": [
        {
          "output_type": "execute_result",
          "data": {
            "text/plain": [
              "    mpg  cylinders  displacement horsepower  weight  acceleration  model year  \\\n",
              "0  18.0          8         307.0        130    3504          12.0          70   \n",
              "1  15.0          8         350.0        165    3693          11.5          70   \n",
              "2  18.0          8         318.0        150    3436          11.0          70   \n",
              "3  16.0          8         304.0        150    3433          12.0          70   \n",
              "4  17.0          8         302.0        140    3449          10.5          70   \n",
              "5  15.0          8         429.0        198    4341          10.0          70   \n",
              "6  14.0          8         454.0        220    4354           9.0          70   \n",
              "7  14.0          8         440.0        215    4312           8.5          70   \n",
              "8  14.0          8         455.0        225    4425          10.0          70   \n",
              "9  15.0          8         390.0        190    3850           8.5          70   \n",
              "\n",
              "   origin                   car name  \n",
              "0       1  chevrolet chevelle malibu  \n",
              "1       1          buick skylark 320  \n",
              "2       1         plymouth satellite  \n",
              "3       1              amc rebel sst  \n",
              "4       1                ford torino  \n",
              "5       1           ford galaxie 500  \n",
              "6       1           chevrolet impala  \n",
              "7       1          plymouth fury iii  \n",
              "8       1           pontiac catalina  \n",
              "9       1         amc ambassador dpl  "
            ],
            "text/html": [
              "\n",
              "  <div id=\"df-fb7883b7-f887-4fa8-b920-da53692d0788\">\n",
              "    <div class=\"colab-df-container\">\n",
              "      <div>\n",
              "<style scoped>\n",
              "    .dataframe tbody tr th:only-of-type {\n",
              "        vertical-align: middle;\n",
              "    }\n",
              "\n",
              "    .dataframe tbody tr th {\n",
              "        vertical-align: top;\n",
              "    }\n",
              "\n",
              "    .dataframe thead th {\n",
              "        text-align: right;\n",
              "    }\n",
              "</style>\n",
              "<table border=\"1\" class=\"dataframe\">\n",
              "  <thead>\n",
              "    <tr style=\"text-align: right;\">\n",
              "      <th></th>\n",
              "      <th>mpg</th>\n",
              "      <th>cylinders</th>\n",
              "      <th>displacement</th>\n",
              "      <th>horsepower</th>\n",
              "      <th>weight</th>\n",
              "      <th>acceleration</th>\n",
              "      <th>model year</th>\n",
              "      <th>origin</th>\n",
              "      <th>car name</th>\n",
              "    </tr>\n",
              "  </thead>\n",
              "  <tbody>\n",
              "    <tr>\n",
              "      <th>0</th>\n",
              "      <td>18.0</td>\n",
              "      <td>8</td>\n",
              "      <td>307.0</td>\n",
              "      <td>130</td>\n",
              "      <td>3504</td>\n",
              "      <td>12.0</td>\n",
              "      <td>70</td>\n",
              "      <td>1</td>\n",
              "      <td>chevrolet chevelle malibu</td>\n",
              "    </tr>\n",
              "    <tr>\n",
              "      <th>1</th>\n",
              "      <td>15.0</td>\n",
              "      <td>8</td>\n",
              "      <td>350.0</td>\n",
              "      <td>165</td>\n",
              "      <td>3693</td>\n",
              "      <td>11.5</td>\n",
              "      <td>70</td>\n",
              "      <td>1</td>\n",
              "      <td>buick skylark 320</td>\n",
              "    </tr>\n",
              "    <tr>\n",
              "      <th>2</th>\n",
              "      <td>18.0</td>\n",
              "      <td>8</td>\n",
              "      <td>318.0</td>\n",
              "      <td>150</td>\n",
              "      <td>3436</td>\n",
              "      <td>11.0</td>\n",
              "      <td>70</td>\n",
              "      <td>1</td>\n",
              "      <td>plymouth satellite</td>\n",
              "    </tr>\n",
              "    <tr>\n",
              "      <th>3</th>\n",
              "      <td>16.0</td>\n",
              "      <td>8</td>\n",
              "      <td>304.0</td>\n",
              "      <td>150</td>\n",
              "      <td>3433</td>\n",
              "      <td>12.0</td>\n",
              "      <td>70</td>\n",
              "      <td>1</td>\n",
              "      <td>amc rebel sst</td>\n",
              "    </tr>\n",
              "    <tr>\n",
              "      <th>4</th>\n",
              "      <td>17.0</td>\n",
              "      <td>8</td>\n",
              "      <td>302.0</td>\n",
              "      <td>140</td>\n",
              "      <td>3449</td>\n",
              "      <td>10.5</td>\n",
              "      <td>70</td>\n",
              "      <td>1</td>\n",
              "      <td>ford torino</td>\n",
              "    </tr>\n",
              "    <tr>\n",
              "      <th>5</th>\n",
              "      <td>15.0</td>\n",
              "      <td>8</td>\n",
              "      <td>429.0</td>\n",
              "      <td>198</td>\n",
              "      <td>4341</td>\n",
              "      <td>10.0</td>\n",
              "      <td>70</td>\n",
              "      <td>1</td>\n",
              "      <td>ford galaxie 500</td>\n",
              "    </tr>\n",
              "    <tr>\n",
              "      <th>6</th>\n",
              "      <td>14.0</td>\n",
              "      <td>8</td>\n",
              "      <td>454.0</td>\n",
              "      <td>220</td>\n",
              "      <td>4354</td>\n",
              "      <td>9.0</td>\n",
              "      <td>70</td>\n",
              "      <td>1</td>\n",
              "      <td>chevrolet impala</td>\n",
              "    </tr>\n",
              "    <tr>\n",
              "      <th>7</th>\n",
              "      <td>14.0</td>\n",
              "      <td>8</td>\n",
              "      <td>440.0</td>\n",
              "      <td>215</td>\n",
              "      <td>4312</td>\n",
              "      <td>8.5</td>\n",
              "      <td>70</td>\n",
              "      <td>1</td>\n",
              "      <td>plymouth fury iii</td>\n",
              "    </tr>\n",
              "    <tr>\n",
              "      <th>8</th>\n",
              "      <td>14.0</td>\n",
              "      <td>8</td>\n",
              "      <td>455.0</td>\n",
              "      <td>225</td>\n",
              "      <td>4425</td>\n",
              "      <td>10.0</td>\n",
              "      <td>70</td>\n",
              "      <td>1</td>\n",
              "      <td>pontiac catalina</td>\n",
              "    </tr>\n",
              "    <tr>\n",
              "      <th>9</th>\n",
              "      <td>15.0</td>\n",
              "      <td>8</td>\n",
              "      <td>390.0</td>\n",
              "      <td>190</td>\n",
              "      <td>3850</td>\n",
              "      <td>8.5</td>\n",
              "      <td>70</td>\n",
              "      <td>1</td>\n",
              "      <td>amc ambassador dpl</td>\n",
              "    </tr>\n",
              "  </tbody>\n",
              "</table>\n",
              "</div>\n",
              "      <button class=\"colab-df-convert\" onclick=\"convertToInteractive('df-fb7883b7-f887-4fa8-b920-da53692d0788')\"\n",
              "              title=\"Convert this dataframe to an interactive table.\"\n",
              "              style=\"display:none;\">\n",
              "        \n",
              "  <svg xmlns=\"http://www.w3.org/2000/svg\" height=\"24px\"viewBox=\"0 0 24 24\"\n",
              "       width=\"24px\">\n",
              "    <path d=\"M0 0h24v24H0V0z\" fill=\"none\"/>\n",
              "    <path d=\"M18.56 5.44l.94 2.06.94-2.06 2.06-.94-2.06-.94-.94-2.06-.94 2.06-2.06.94zm-11 1L8.5 8.5l.94-2.06 2.06-.94-2.06-.94L8.5 2.5l-.94 2.06-2.06.94zm10 10l.94 2.06.94-2.06 2.06-.94-2.06-.94-.94-2.06-.94 2.06-2.06.94z\"/><path d=\"M17.41 7.96l-1.37-1.37c-.4-.4-.92-.59-1.43-.59-.52 0-1.04.2-1.43.59L10.3 9.45l-7.72 7.72c-.78.78-.78 2.05 0 2.83L4 21.41c.39.39.9.59 1.41.59.51 0 1.02-.2 1.41-.59l7.78-7.78 2.81-2.81c.8-.78.8-2.07 0-2.86zM5.41 20L4 18.59l7.72-7.72 1.47 1.35L5.41 20z\"/>\n",
              "  </svg>\n",
              "      </button>\n",
              "      \n",
              "  <style>\n",
              "    .colab-df-container {\n",
              "      display:flex;\n",
              "      flex-wrap:wrap;\n",
              "      gap: 12px;\n",
              "    }\n",
              "\n",
              "    .colab-df-convert {\n",
              "      background-color: #E8F0FE;\n",
              "      border: none;\n",
              "      border-radius: 50%;\n",
              "      cursor: pointer;\n",
              "      display: none;\n",
              "      fill: #1967D2;\n",
              "      height: 32px;\n",
              "      padding: 0 0 0 0;\n",
              "      width: 32px;\n",
              "    }\n",
              "\n",
              "    .colab-df-convert:hover {\n",
              "      background-color: #E2EBFA;\n",
              "      box-shadow: 0px 1px 2px rgba(60, 64, 67, 0.3), 0px 1px 3px 1px rgba(60, 64, 67, 0.15);\n",
              "      fill: #174EA6;\n",
              "    }\n",
              "\n",
              "    [theme=dark] .colab-df-convert {\n",
              "      background-color: #3B4455;\n",
              "      fill: #D2E3FC;\n",
              "    }\n",
              "\n",
              "    [theme=dark] .colab-df-convert:hover {\n",
              "      background-color: #434B5C;\n",
              "      box-shadow: 0px 1px 3px 1px rgba(0, 0, 0, 0.15);\n",
              "      filter: drop-shadow(0px 1px 2px rgba(0, 0, 0, 0.3));\n",
              "      fill: #FFFFFF;\n",
              "    }\n",
              "  </style>\n",
              "\n",
              "      <script>\n",
              "        const buttonEl =\n",
              "          document.querySelector('#df-fb7883b7-f887-4fa8-b920-da53692d0788 button.colab-df-convert');\n",
              "        buttonEl.style.display =\n",
              "          google.colab.kernel.accessAllowed ? 'block' : 'none';\n",
              "\n",
              "        async function convertToInteractive(key) {\n",
              "          const element = document.querySelector('#df-fb7883b7-f887-4fa8-b920-da53692d0788');\n",
              "          const dataTable =\n",
              "            await google.colab.kernel.invokeFunction('convertToInteractive',\n",
              "                                                     [key], {});\n",
              "          if (!dataTable) return;\n",
              "\n",
              "          const docLinkHtml = 'Like what you see? Visit the ' +\n",
              "            '<a target=\"_blank\" href=https://colab.research.google.com/notebooks/data_table.ipynb>data table notebook</a>'\n",
              "            + ' to learn more about interactive tables.';\n",
              "          element.innerHTML = '';\n",
              "          dataTable['output_type'] = 'display_data';\n",
              "          await google.colab.output.renderOutput(dataTable, element);\n",
              "          const docLink = document.createElement('div');\n",
              "          docLink.innerHTML = docLinkHtml;\n",
              "          element.appendChild(docLink);\n",
              "        }\n",
              "      </script>\n",
              "    </div>\n",
              "  </div>\n",
              "  "
            ]
          },
          "metadata": {},
          "execution_count": 31
        }
      ],
      "source": [
        "df=pd.read_csv('/content/car performance (1).csv')\n",
        "df.head(10)"
      ]
    },
    {
      "cell_type": "markdown",
      "metadata": {
        "id": "ie1iZpUU3W3C"
      },
      "source": [
        "## ***Data Pre-processing***"
      ]
    },
    {
      "cell_type": "code",
      "execution_count": 32,
      "metadata": {
        "colab": {
          "base_uri": "https://localhost:8080/",
          "height": 0
        },
        "id": "OMUkIaOO3g6M",
        "outputId": "719eaa23-74ed-4483-90f8-b2440a3f6e29"
      },
      "outputs": [
        {
          "output_type": "execute_result",
          "data": {
            "text/plain": [
              "mpg             False\n",
              "cylinders       False\n",
              "displacement    False\n",
              "horsepower      False\n",
              "weight          False\n",
              "acceleration    False\n",
              "model year      False\n",
              "origin          False\n",
              "car name        False\n",
              "dtype: bool"
            ]
          },
          "metadata": {},
          "execution_count": 32
        }
      ],
      "source": [
        "df.isnull().any()"
      ]
    },
    {
      "cell_type": "code",
      "execution_count": 33,
      "metadata": {
        "id": "9TDZy3f54D8L"
      },
      "outputs": [],
      "source": [
        "df['horsepower']=df['horsepower'].replace('?',np.nan)"
      ]
    },
    {
      "cell_type": "code",
      "execution_count": 34,
      "metadata": {
        "id": "UtRmsQ-E5BbM"
      },
      "outputs": [],
      "source": [
        "df['horsepower'].fillna((df['horsepower'].astype('float64').mean()),inplace=True)"
      ]
    },
    {
      "cell_type": "code",
      "execution_count": 35,
      "metadata": {
        "colab": {
          "base_uri": "https://localhost:8080/",
          "height": 0
        },
        "id": "eJREcnuU54TG",
        "outputId": "e3e74420-0faa-4714-dd89-d74748fe1c29"
      },
      "outputs": [
        {
          "output_type": "execute_result",
          "data": {
            "text/plain": [
              "0"
            ]
          },
          "metadata": {},
          "execution_count": 35
        }
      ],
      "source": [
        "df['horsepower'].isnull().sum()"
      ]
    },
    {
      "cell_type": "code",
      "execution_count": 36,
      "metadata": {
        "colab": {
          "base_uri": "https://localhost:8080/",
          "height": 0
        },
        "id": "pLQDK-XZ6Lde",
        "outputId": "c5a68635-5fff-4774-87a0-091ab56ed1ec"
      },
      "outputs": [
        {
          "output_type": "execute_result",
          "data": {
            "text/plain": [
              "mpg             float64\n",
              "cylinders         int64\n",
              "displacement    float64\n",
              "horsepower       object\n",
              "weight            int64\n",
              "acceleration    float64\n",
              "model year        int64\n",
              "origin            int64\n",
              "car name         object\n",
              "dtype: object"
            ]
          },
          "metadata": {},
          "execution_count": 36
        }
      ],
      "source": [
        "df.dtypes"
      ]
    },
    {
      "cell_type": "code",
      "execution_count": 37,
      "metadata": {
        "colab": {
          "base_uri": "https://localhost:8080/",
          "height": 300
        },
        "id": "149Eqlbz7lAC",
        "outputId": "5ee270c8-4cdf-434f-fc16-09753ec05050"
      },
      "outputs": [
        {
          "output_type": "execute_result",
          "data": {
            "text/plain": [
              "                   mpg  cylinders  displacement  horsepower    weight  \\\n",
              "mpg           1.000000  -0.775396     -0.804203   -0.771437 -0.831741   \n",
              "cylinders    -0.775396   1.000000      0.950721    0.838939  0.896017   \n",
              "displacement -0.804203   0.950721      1.000000    0.893646  0.932824   \n",
              "horsepower   -0.771437   0.838939      0.893646    1.000000  0.860574   \n",
              "weight       -0.831741   0.896017      0.932824    0.860574  1.000000   \n",
              "acceleration  0.420289  -0.505419     -0.543684   -0.684259 -0.417457   \n",
              "model year    0.579267  -0.348746     -0.370164   -0.411651 -0.306564   \n",
              "origin        0.563450  -0.562543     -0.609409   -0.453669 -0.581024   \n",
              "\n",
              "              acceleration  model year    origin  \n",
              "mpg               0.420289    0.579267  0.563450  \n",
              "cylinders        -0.505419   -0.348746 -0.562543  \n",
              "displacement     -0.543684   -0.370164 -0.609409  \n",
              "horsepower       -0.684259   -0.411651 -0.453669  \n",
              "weight           -0.417457   -0.306564 -0.581024  \n",
              "acceleration      1.000000    0.288137  0.205873  \n",
              "model year        0.288137    1.000000  0.180662  \n",
              "origin            0.205873    0.180662  1.000000  "
            ],
            "text/html": [
              "\n",
              "  <div id=\"df-393dd2ad-f4c7-4922-bea4-9f0dc01a07d7\">\n",
              "    <div class=\"colab-df-container\">\n",
              "      <div>\n",
              "<style scoped>\n",
              "    .dataframe tbody tr th:only-of-type {\n",
              "        vertical-align: middle;\n",
              "    }\n",
              "\n",
              "    .dataframe tbody tr th {\n",
              "        vertical-align: top;\n",
              "    }\n",
              "\n",
              "    .dataframe thead th {\n",
              "        text-align: right;\n",
              "    }\n",
              "</style>\n",
              "<table border=\"1\" class=\"dataframe\">\n",
              "  <thead>\n",
              "    <tr style=\"text-align: right;\">\n",
              "      <th></th>\n",
              "      <th>mpg</th>\n",
              "      <th>cylinders</th>\n",
              "      <th>displacement</th>\n",
              "      <th>horsepower</th>\n",
              "      <th>weight</th>\n",
              "      <th>acceleration</th>\n",
              "      <th>model year</th>\n",
              "      <th>origin</th>\n",
              "    </tr>\n",
              "  </thead>\n",
              "  <tbody>\n",
              "    <tr>\n",
              "      <th>mpg</th>\n",
              "      <td>1.000000</td>\n",
              "      <td>-0.775396</td>\n",
              "      <td>-0.804203</td>\n",
              "      <td>-0.771437</td>\n",
              "      <td>-0.831741</td>\n",
              "      <td>0.420289</td>\n",
              "      <td>0.579267</td>\n",
              "      <td>0.563450</td>\n",
              "    </tr>\n",
              "    <tr>\n",
              "      <th>cylinders</th>\n",
              "      <td>-0.775396</td>\n",
              "      <td>1.000000</td>\n",
              "      <td>0.950721</td>\n",
              "      <td>0.838939</td>\n",
              "      <td>0.896017</td>\n",
              "      <td>-0.505419</td>\n",
              "      <td>-0.348746</td>\n",
              "      <td>-0.562543</td>\n",
              "    </tr>\n",
              "    <tr>\n",
              "      <th>displacement</th>\n",
              "      <td>-0.804203</td>\n",
              "      <td>0.950721</td>\n",
              "      <td>1.000000</td>\n",
              "      <td>0.893646</td>\n",
              "      <td>0.932824</td>\n",
              "      <td>-0.543684</td>\n",
              "      <td>-0.370164</td>\n",
              "      <td>-0.609409</td>\n",
              "    </tr>\n",
              "    <tr>\n",
              "      <th>horsepower</th>\n",
              "      <td>-0.771437</td>\n",
              "      <td>0.838939</td>\n",
              "      <td>0.893646</td>\n",
              "      <td>1.000000</td>\n",
              "      <td>0.860574</td>\n",
              "      <td>-0.684259</td>\n",
              "      <td>-0.411651</td>\n",
              "      <td>-0.453669</td>\n",
              "    </tr>\n",
              "    <tr>\n",
              "      <th>weight</th>\n",
              "      <td>-0.831741</td>\n",
              "      <td>0.896017</td>\n",
              "      <td>0.932824</td>\n",
              "      <td>0.860574</td>\n",
              "      <td>1.000000</td>\n",
              "      <td>-0.417457</td>\n",
              "      <td>-0.306564</td>\n",
              "      <td>-0.581024</td>\n",
              "    </tr>\n",
              "    <tr>\n",
              "      <th>acceleration</th>\n",
              "      <td>0.420289</td>\n",
              "      <td>-0.505419</td>\n",
              "      <td>-0.543684</td>\n",
              "      <td>-0.684259</td>\n",
              "      <td>-0.417457</td>\n",
              "      <td>1.000000</td>\n",
              "      <td>0.288137</td>\n",
              "      <td>0.205873</td>\n",
              "    </tr>\n",
              "    <tr>\n",
              "      <th>model year</th>\n",
              "      <td>0.579267</td>\n",
              "      <td>-0.348746</td>\n",
              "      <td>-0.370164</td>\n",
              "      <td>-0.411651</td>\n",
              "      <td>-0.306564</td>\n",
              "      <td>0.288137</td>\n",
              "      <td>1.000000</td>\n",
              "      <td>0.180662</td>\n",
              "    </tr>\n",
              "    <tr>\n",
              "      <th>origin</th>\n",
              "      <td>0.563450</td>\n",
              "      <td>-0.562543</td>\n",
              "      <td>-0.609409</td>\n",
              "      <td>-0.453669</td>\n",
              "      <td>-0.581024</td>\n",
              "      <td>0.205873</td>\n",
              "      <td>0.180662</td>\n",
              "      <td>1.000000</td>\n",
              "    </tr>\n",
              "  </tbody>\n",
              "</table>\n",
              "</div>\n",
              "      <button class=\"colab-df-convert\" onclick=\"convertToInteractive('df-393dd2ad-f4c7-4922-bea4-9f0dc01a07d7')\"\n",
              "              title=\"Convert this dataframe to an interactive table.\"\n",
              "              style=\"display:none;\">\n",
              "        \n",
              "  <svg xmlns=\"http://www.w3.org/2000/svg\" height=\"24px\"viewBox=\"0 0 24 24\"\n",
              "       width=\"24px\">\n",
              "    <path d=\"M0 0h24v24H0V0z\" fill=\"none\"/>\n",
              "    <path d=\"M18.56 5.44l.94 2.06.94-2.06 2.06-.94-2.06-.94-.94-2.06-.94 2.06-2.06.94zm-11 1L8.5 8.5l.94-2.06 2.06-.94-2.06-.94L8.5 2.5l-.94 2.06-2.06.94zm10 10l.94 2.06.94-2.06 2.06-.94-2.06-.94-.94-2.06-.94 2.06-2.06.94z\"/><path d=\"M17.41 7.96l-1.37-1.37c-.4-.4-.92-.59-1.43-.59-.52 0-1.04.2-1.43.59L10.3 9.45l-7.72 7.72c-.78.78-.78 2.05 0 2.83L4 21.41c.39.39.9.59 1.41.59.51 0 1.02-.2 1.41-.59l7.78-7.78 2.81-2.81c.8-.78.8-2.07 0-2.86zM5.41 20L4 18.59l7.72-7.72 1.47 1.35L5.41 20z\"/>\n",
              "  </svg>\n",
              "      </button>\n",
              "      \n",
              "  <style>\n",
              "    .colab-df-container {\n",
              "      display:flex;\n",
              "      flex-wrap:wrap;\n",
              "      gap: 12px;\n",
              "    }\n",
              "\n",
              "    .colab-df-convert {\n",
              "      background-color: #E8F0FE;\n",
              "      border: none;\n",
              "      border-radius: 50%;\n",
              "      cursor: pointer;\n",
              "      display: none;\n",
              "      fill: #1967D2;\n",
              "      height: 32px;\n",
              "      padding: 0 0 0 0;\n",
              "      width: 32px;\n",
              "    }\n",
              "\n",
              "    .colab-df-convert:hover {\n",
              "      background-color: #E2EBFA;\n",
              "      box-shadow: 0px 1px 2px rgba(60, 64, 67, 0.3), 0px 1px 3px 1px rgba(60, 64, 67, 0.15);\n",
              "      fill: #174EA6;\n",
              "    }\n",
              "\n",
              "    [theme=dark] .colab-df-convert {\n",
              "      background-color: #3B4455;\n",
              "      fill: #D2E3FC;\n",
              "    }\n",
              "\n",
              "    [theme=dark] .colab-df-convert:hover {\n",
              "      background-color: #434B5C;\n",
              "      box-shadow: 0px 1px 3px 1px rgba(0, 0, 0, 0.15);\n",
              "      filter: drop-shadow(0px 1px 2px rgba(0, 0, 0, 0.3));\n",
              "      fill: #FFFFFF;\n",
              "    }\n",
              "  </style>\n",
              "\n",
              "      <script>\n",
              "        const buttonEl =\n",
              "          document.querySelector('#df-393dd2ad-f4c7-4922-bea4-9f0dc01a07d7 button.colab-df-convert');\n",
              "        buttonEl.style.display =\n",
              "          google.colab.kernel.accessAllowed ? 'block' : 'none';\n",
              "\n",
              "        async function convertToInteractive(key) {\n",
              "          const element = document.querySelector('#df-393dd2ad-f4c7-4922-bea4-9f0dc01a07d7');\n",
              "          const dataTable =\n",
              "            await google.colab.kernel.invokeFunction('convertToInteractive',\n",
              "                                                     [key], {});\n",
              "          if (!dataTable) return;\n",
              "\n",
              "          const docLinkHtml = 'Like what you see? Visit the ' +\n",
              "            '<a target=\"_blank\" href=https://colab.research.google.com/notebooks/data_table.ipynb>data table notebook</a>'\n",
              "            + ' to learn more about interactive tables.';\n",
              "          element.innerHTML = '';\n",
              "          dataTable['output_type'] = 'display_data';\n",
              "          await google.colab.output.renderOutput(dataTable, element);\n",
              "          const docLink = document.createElement('div');\n",
              "          docLink.innerHTML = docLinkHtml;\n",
              "          element.appendChild(docLink);\n",
              "        }\n",
              "      </script>\n",
              "    </div>\n",
              "  </div>\n",
              "  "
            ]
          },
          "metadata": {},
          "execution_count": 37
        }
      ],
      "source": [
        "df['horsepower']=df['horsepower'].astype('float64')\n",
        "df.corr()"
      ]
    },
    {
      "cell_type": "code",
      "execution_count": 38,
      "metadata": {
        "id": "y5TiBrew7lP_"
      },
      "outputs": [],
      "source": [
        "df.drop('car name',axis=1,inplace=True)"
      ]
    },
    {
      "cell_type": "markdown",
      "metadata": {
        "id": "Jb2J7aL57Qib"
      },
      "source": [
        "## ***Dependent and Independent variables***"
      ]
    },
    {
      "cell_type": "code",
      "execution_count": 39,
      "metadata": {
        "colab": {
          "base_uri": "https://localhost:8080/",
          "height": 206
        },
        "id": "i4UurVHX7cQu",
        "outputId": "02a2a6c7-f1aa-4030-f146-652750177176"
      },
      "outputs": [
        {
          "output_type": "execute_result",
          "data": {
            "text/plain": [
              "   cylinders  displacement  horsepower  weight  acceleration  model year  \\\n",
              "0          8         307.0       130.0    3504          12.0          70   \n",
              "1          8         350.0       165.0    3693          11.5          70   \n",
              "2          8         318.0       150.0    3436          11.0          70   \n",
              "3          8         304.0       150.0    3433          12.0          70   \n",
              "4          8         302.0       140.0    3449          10.5          70   \n",
              "\n",
              "   origin  \n",
              "0       1  \n",
              "1       1  \n",
              "2       1  \n",
              "3       1  \n",
              "4       1  "
            ],
            "text/html": [
              "\n",
              "  <div id=\"df-db58474d-c488-4ec2-a3a3-ca1f3a91de18\">\n",
              "    <div class=\"colab-df-container\">\n",
              "      <div>\n",
              "<style scoped>\n",
              "    .dataframe tbody tr th:only-of-type {\n",
              "        vertical-align: middle;\n",
              "    }\n",
              "\n",
              "    .dataframe tbody tr th {\n",
              "        vertical-align: top;\n",
              "    }\n",
              "\n",
              "    .dataframe thead th {\n",
              "        text-align: right;\n",
              "    }\n",
              "</style>\n",
              "<table border=\"1\" class=\"dataframe\">\n",
              "  <thead>\n",
              "    <tr style=\"text-align: right;\">\n",
              "      <th></th>\n",
              "      <th>cylinders</th>\n",
              "      <th>displacement</th>\n",
              "      <th>horsepower</th>\n",
              "      <th>weight</th>\n",
              "      <th>acceleration</th>\n",
              "      <th>model year</th>\n",
              "      <th>origin</th>\n",
              "    </tr>\n",
              "  </thead>\n",
              "  <tbody>\n",
              "    <tr>\n",
              "      <th>0</th>\n",
              "      <td>8</td>\n",
              "      <td>307.0</td>\n",
              "      <td>130.0</td>\n",
              "      <td>3504</td>\n",
              "      <td>12.0</td>\n",
              "      <td>70</td>\n",
              "      <td>1</td>\n",
              "    </tr>\n",
              "    <tr>\n",
              "      <th>1</th>\n",
              "      <td>8</td>\n",
              "      <td>350.0</td>\n",
              "      <td>165.0</td>\n",
              "      <td>3693</td>\n",
              "      <td>11.5</td>\n",
              "      <td>70</td>\n",
              "      <td>1</td>\n",
              "    </tr>\n",
              "    <tr>\n",
              "      <th>2</th>\n",
              "      <td>8</td>\n",
              "      <td>318.0</td>\n",
              "      <td>150.0</td>\n",
              "      <td>3436</td>\n",
              "      <td>11.0</td>\n",
              "      <td>70</td>\n",
              "      <td>1</td>\n",
              "    </tr>\n",
              "    <tr>\n",
              "      <th>3</th>\n",
              "      <td>8</td>\n",
              "      <td>304.0</td>\n",
              "      <td>150.0</td>\n",
              "      <td>3433</td>\n",
              "      <td>12.0</td>\n",
              "      <td>70</td>\n",
              "      <td>1</td>\n",
              "    </tr>\n",
              "    <tr>\n",
              "      <th>4</th>\n",
              "      <td>8</td>\n",
              "      <td>302.0</td>\n",
              "      <td>140.0</td>\n",
              "      <td>3449</td>\n",
              "      <td>10.5</td>\n",
              "      <td>70</td>\n",
              "      <td>1</td>\n",
              "    </tr>\n",
              "  </tbody>\n",
              "</table>\n",
              "</div>\n",
              "      <button class=\"colab-df-convert\" onclick=\"convertToInteractive('df-db58474d-c488-4ec2-a3a3-ca1f3a91de18')\"\n",
              "              title=\"Convert this dataframe to an interactive table.\"\n",
              "              style=\"display:none;\">\n",
              "        \n",
              "  <svg xmlns=\"http://www.w3.org/2000/svg\" height=\"24px\"viewBox=\"0 0 24 24\"\n",
              "       width=\"24px\">\n",
              "    <path d=\"M0 0h24v24H0V0z\" fill=\"none\"/>\n",
              "    <path d=\"M18.56 5.44l.94 2.06.94-2.06 2.06-.94-2.06-.94-.94-2.06-.94 2.06-2.06.94zm-11 1L8.5 8.5l.94-2.06 2.06-.94-2.06-.94L8.5 2.5l-.94 2.06-2.06.94zm10 10l.94 2.06.94-2.06 2.06-.94-2.06-.94-.94-2.06-.94 2.06-2.06.94z\"/><path d=\"M17.41 7.96l-1.37-1.37c-.4-.4-.92-.59-1.43-.59-.52 0-1.04.2-1.43.59L10.3 9.45l-7.72 7.72c-.78.78-.78 2.05 0 2.83L4 21.41c.39.39.9.59 1.41.59.51 0 1.02-.2 1.41-.59l7.78-7.78 2.81-2.81c.8-.78.8-2.07 0-2.86zM5.41 20L4 18.59l7.72-7.72 1.47 1.35L5.41 20z\"/>\n",
              "  </svg>\n",
              "      </button>\n",
              "      \n",
              "  <style>\n",
              "    .colab-df-container {\n",
              "      display:flex;\n",
              "      flex-wrap:wrap;\n",
              "      gap: 12px;\n",
              "    }\n",
              "\n",
              "    .colab-df-convert {\n",
              "      background-color: #E8F0FE;\n",
              "      border: none;\n",
              "      border-radius: 50%;\n",
              "      cursor: pointer;\n",
              "      display: none;\n",
              "      fill: #1967D2;\n",
              "      height: 32px;\n",
              "      padding: 0 0 0 0;\n",
              "      width: 32px;\n",
              "    }\n",
              "\n",
              "    .colab-df-convert:hover {\n",
              "      background-color: #E2EBFA;\n",
              "      box-shadow: 0px 1px 2px rgba(60, 64, 67, 0.3), 0px 1px 3px 1px rgba(60, 64, 67, 0.15);\n",
              "      fill: #174EA6;\n",
              "    }\n",
              "\n",
              "    [theme=dark] .colab-df-convert {\n",
              "      background-color: #3B4455;\n",
              "      fill: #D2E3FC;\n",
              "    }\n",
              "\n",
              "    [theme=dark] .colab-df-convert:hover {\n",
              "      background-color: #434B5C;\n",
              "      box-shadow: 0px 1px 3px 1px rgba(0, 0, 0, 0.15);\n",
              "      filter: drop-shadow(0px 1px 2px rgba(0, 0, 0, 0.3));\n",
              "      fill: #FFFFFF;\n",
              "    }\n",
              "  </style>\n",
              "\n",
              "      <script>\n",
              "        const buttonEl =\n",
              "          document.querySelector('#df-db58474d-c488-4ec2-a3a3-ca1f3a91de18 button.colab-df-convert');\n",
              "        buttonEl.style.display =\n",
              "          google.colab.kernel.accessAllowed ? 'block' : 'none';\n",
              "\n",
              "        async function convertToInteractive(key) {\n",
              "          const element = document.querySelector('#df-db58474d-c488-4ec2-a3a3-ca1f3a91de18');\n",
              "          const dataTable =\n",
              "            await google.colab.kernel.invokeFunction('convertToInteractive',\n",
              "                                                     [key], {});\n",
              "          if (!dataTable) return;\n",
              "\n",
              "          const docLinkHtml = 'Like what you see? Visit the ' +\n",
              "            '<a target=\"_blank\" href=https://colab.research.google.com/notebooks/data_table.ipynb>data table notebook</a>'\n",
              "            + ' to learn more about interactive tables.';\n",
              "          element.innerHTML = '';\n",
              "          dataTable['output_type'] = 'display_data';\n",
              "          await google.colab.output.renderOutput(dataTable, element);\n",
              "          const docLink = document.createElement('div');\n",
              "          docLink.innerHTML = docLinkHtml;\n",
              "          element.appendChild(docLink);\n",
              "        }\n",
              "      </script>\n",
              "    </div>\n",
              "  </div>\n",
              "  "
            ]
          },
          "metadata": {},
          "execution_count": 39
        }
      ],
      "source": [
        "X=df.iloc[:,1:8]\n",
        "X.head()"
      ]
    },
    {
      "cell_type": "code",
      "execution_count": 40,
      "metadata": {
        "colab": {
          "base_uri": "https://localhost:8080/",
          "height": 0
        },
        "id": "fQr4JHAt8xCN",
        "outputId": "3eb60407-cf1d-40cf-aae6-caff0f9bfe67"
      },
      "outputs": [
        {
          "output_type": "execute_result",
          "data": {
            "text/plain": [
              "0    18.0\n",
              "1    15.0\n",
              "2    18.0\n",
              "3    16.0\n",
              "4    17.0\n",
              "Name: mpg, dtype: float64"
            ]
          },
          "metadata": {},
          "execution_count": 40
        }
      ],
      "source": [
        "\n",
        "y=df['mpg']\n",
        "y.head()"
      ]
    },
    {
      "cell_type": "markdown",
      "metadata": {
        "id": "jMt1f_EV84qT"
      },
      "source": [
        "## ***Designing Testing & Training Dataset***"
      ]
    },
    {
      "cell_type": "code",
      "execution_count": 41,
      "metadata": {
        "id": "wUkIfY2w8-9P"
      },
      "outputs": [],
      "source": [
        "\n",
        "x_train,x_test,y_train,y_test=train_test_split(X,y,test_size=0.15,random_state=0)"
      ]
    },
    {
      "cell_type": "markdown",
      "metadata": {
        "id": "IzoKMNcM9jMU"
      },
      "source": [
        "## ***Linear Regression***"
      ]
    },
    {
      "cell_type": "code",
      "execution_count": 42,
      "metadata": {
        "id": "AL6MX_bu9mB0"
      },
      "outputs": [],
      "source": [
        "lr=LinearRegression()\n",
        "log_reg=lr.fit(x_train,y_train)"
      ]
    },
    {
      "cell_type": "code",
      "execution_count": 43,
      "metadata": {
        "colab": {
          "base_uri": "https://localhost:8080/",
          "height": 0
        },
        "id": "A-iTOU3_91H3",
        "outputId": "2e603e53-0a3f-42ac-fab0-2c421bb71352"
      },
      "outputs": [
        {
          "output_type": "stream",
          "name": "stdout",
          "text": [
            "     cylinders  displacement  horsepower  weight  acceleration  model year  \\\n",
            "65           8         351.0  153.000000    4129          13.0          72   \n",
            "132          4         140.0   75.000000    2542          17.0          74   \n",
            "74           8         302.0  140.000000    4294          16.0          72   \n",
            "78           4         120.0   87.000000    2979          19.5          72   \n",
            "37           6         232.0  100.000000    3288          15.5          71   \n",
            "54           4          72.0   69.000000    1613          18.0          71   \n",
            "294          4          86.0   65.000000    1975          15.2          79   \n",
            "60           4         140.0   90.000000    2408          19.5          72   \n",
            "12           8         400.0  150.000000    3761           9.5          70   \n",
            "341          6         173.0  110.000000    2725          12.6          81   \n",
            "330          4          85.0  104.469388    1835          17.3          80   \n",
            "312          4          86.0   65.000000    2019          16.4          80   \n",
            "100          6         250.0   88.000000    3021          16.5          73   \n",
            "59           4          97.0   54.000000    2254          23.5          72   \n",
            "223          8         318.0  145.000000    4140          13.7          77   \n",
            "295          4          98.0   80.000000    1915          14.4          79   \n",
            "397          4         119.0   82.000000    2720          19.4          82   \n",
            "372          4         151.0   90.000000    2735          18.0          82   \n",
            "135          6         225.0  105.000000    3613          16.5          74   \n",
            "304          4          91.0   69.000000    2130          14.7          79   \n",
            "231          8         400.0  190.000000    4325          12.2          77   \n",
            "170          4         140.0   78.000000    2592          18.5          75   \n",
            "173          4         119.0   97.000000    2545          17.0          75   \n",
            "76           4         121.0  112.000000    2933          14.5          72   \n",
            "302          4         105.0   70.000000    2150          14.9          79   \n",
            "361          6         168.0  116.000000    2900          12.6          81   \n",
            "245          4          98.0   66.000000    1800          14.4          78   \n",
            "369          4         112.0   88.000000    2395          18.0          82   \n",
            "342          4         135.0   84.000000    2385          12.9          81   \n",
            "134          6         258.0  110.000000    3632          18.0          74   \n",
            "260          6         225.0  110.000000    3620          18.7          78   \n",
            "320          4         119.0   92.000000    2434          15.0          80   \n",
            "154          6         250.0   72.000000    3432          21.0          75   \n",
            "220          4          85.0   70.000000    1945          16.8          77   \n",
            "363          6         231.0  110.000000    3415          15.8          81   \n",
            "171          4         134.0   96.000000    2702          13.5          75   \n",
            "176          6         232.0   90.000000    3211          17.0          75   \n",
            "289          8         350.0  155.000000    4360          14.9          79   \n",
            "293          4          89.0   71.000000    1925          14.0          79   \n",
            "90           8         429.0  198.000000    4952          11.5          73   \n",
            "6            8         454.0  220.000000    4354           9.0          70   \n",
            "1            8         350.0  165.000000    3693          11.5          70   \n",
            "296          4         121.0   80.000000    2670          15.0          79   \n",
            "334          3          70.0  100.000000    2420          12.5          80   \n",
            "390          4         144.0   96.000000    2665          13.9          82   \n",
            "122          4         121.0  110.000000    2660          14.0          73   \n",
            "194          6         232.0   90.000000    3085          17.6          76   \n",
            "212          8         350.0  180.000000    4380          12.1          76   \n",
            "113          6         155.0  107.000000    2472          14.0          73   \n",
            "142          4          79.0   67.000000    1963          15.5          74   \n",
            "309          4          98.0   76.000000    2144          14.7          80   \n",
            "141          4          98.0   83.000000    2219          16.5          74   \n",
            "224          8         302.0  130.000000    4295          14.9          77   \n",
            "52           4          88.0   76.000000    2065          14.5          71   \n",
            "10           8         383.0  170.000000    3563          10.0          70   \n",
            "26           8         307.0  200.000000    4376          15.0          70   \n",
            "45           6         258.0  110.000000    2962          13.5          71   \n",
            "365          6         200.0   88.000000    3060          17.1          81   \n",
            "391          4         135.0   84.000000    2370          13.0          82   \n",
            "4            8         302.0  140.000000    3449          10.5          70   \n",
            "\n",
            "     origin  \n",
            "65        1  \n",
            "132       1  \n",
            "74        1  \n",
            "78        2  \n",
            "37        1  \n",
            "54        3  \n",
            "294       3  \n",
            "60        1  \n",
            "12        1  \n",
            "341       1  \n",
            "330       2  \n",
            "312       3  \n",
            "100       1  \n",
            "59        2  \n",
            "223       1  \n",
            "295       1  \n",
            "397       1  \n",
            "372       1  \n",
            "135       1  \n",
            "304       2  \n",
            "231       1  \n",
            "170       1  \n",
            "173       3  \n",
            "76        2  \n",
            "302       1  \n",
            "361       3  \n",
            "245       1  \n",
            "369       1  \n",
            "342       1  \n",
            "134       1  \n",
            "260       1  \n",
            "320       3  \n",
            "154       1  \n",
            "220       3  \n",
            "363       1  \n",
            "171       3  \n",
            "176       1  \n",
            "289       1  \n",
            "293       2  \n",
            "90        1  \n",
            "6         1  \n",
            "1         1  \n",
            "296       1  \n",
            "334       3  \n",
            "390       3  \n",
            "122       2  \n",
            "194       1  \n",
            "212       1  \n",
            "113       1  \n",
            "142       2  \n",
            "309       2  \n",
            "141       2  \n",
            "224       1  \n",
            "52        2  \n",
            "10        1  \n",
            "26        1  \n",
            "45        1  \n",
            "365       1  \n",
            "391       1  \n",
            "4         1  \n"
          ]
        },
        {
          "output_type": "execute_result",
          "data": {
            "text/plain": [
              "array([13.07551807, 24.14160204, 11.73583243, 21.22160672, 17.53816502,\n",
              "       29.67426003, 33.24183502, 23.54654715, 14.49177605, 26.42413027,\n",
              "       32.69062207, 33.87113858, 21.4341306 , 26.51980446, 16.22859678,\n",
              "       30.2926263 , 28.61784558, 28.82446214, 17.59970431, 30.66335217,\n",
              "       15.61688093, 24.71149689, 27.05819066, 20.26017098, 29.27690177,\n",
              "       28.23544772, 30.5815874 , 30.14810137, 29.31933872, 18.28643728,\n",
              "       20.67853131, 31.20855022, 21.34637813, 32.07077921, 23.84125467,\n",
              "       25.92071138, 21.36355711, 16.95496128, 31.74501342,  9.15982371,\n",
              "       10.36175201, 13.81685276, 26.19309836, 30.21602297, 31.51835739,\n",
              "       22.64964084, 22.95831099, 13.69564278, 22.04858378, 27.95962407,\n",
              "       31.30021715, 26.57156094, 15.43214925, 24.99216678, 14.99299113,\n",
              "        8.42193935, 19.59792954, 26.05115717, 30.15511223, 14.71456451])"
            ]
          },
          "metadata": {},
          "execution_count": 43
        }
      ],
      "source": [
        "y_pred1=lr.predict(x_test)\n",
        "print(x_test)\n",
        "y_pred1"
      ]
    },
    {
      "cell_type": "code",
      "execution_count": 44,
      "metadata": {
        "colab": {
          "base_uri": "https://localhost:8080/",
          "height": 0
        },
        "id": "OpdjzH4F95rK",
        "outputId": "8d066b4c-a496-4805-c2bf-ca7b01deeed5"
      },
      "outputs": [
        {
          "output_type": "stream",
          "name": "stdout",
          "text": [
            "R2 Score : 0.8210921947929903\n",
            "Mean Square Error  : 3.4890131951689884\n"
          ]
        }
      ],
      "source": [
        "print(\"R2 Score :\" ,r2_score(y_test,y_pred1))\n",
        "print(\"Mean Square Error  :\" ,np.sqrt(mean_squared_error(y_test,y_pred1)))"
      ]
    },
    {
      "cell_type": "code",
      "execution_count": 45,
      "metadata": {
        "id": "pJyxqhd_GB1k"
      },
      "outputs": [],
      "source": [
        "def inputTestData():\n",
        "  cylinders = int(input(\"Enter cylinders : \"))\n",
        "  displacement = input(\"Enter displacement : \")\n",
        "  horsepower =\tinput(\"Enter horsepower : \")\n",
        "  weight\t= input(\"Enter weight : \")\n",
        "  acceleration = input(\"Enter acceleration : \")\n",
        "  model_year = input(\"Enter model_year : \")\n",
        "  origin =\tinput(\"Enter origin : \")\n",
        "\n",
        "  #8\t307.0\t130.0\t3504\t12.0\t70\t1\n",
        "\n",
        "  inputXTest = pd.DataFrame(list(zip([cylinders], [displacement], [horsepower],[weight],[acceleration],[model_year],[origin])), \n",
        "                            columns = ['cylinders', 'displacement','horsepower','weight','acceleration','model year','origin'])\n",
        "  \n",
        "  return inputXTest\n"
      ]
    },
    {
      "cell_type": "markdown",
      "metadata": {
        "id": "GXJLTr0hTrU5"
      },
      "source": [
        "***Prediction on Input Values*** Linear Regression"
      ]
    },
    {
      "cell_type": "code",
      "execution_count": 46,
      "metadata": {
        "colab": {
          "base_uri": "https://localhost:8080/",
          "height": 0
        },
        "id": "5cf7dUMIT2mA",
        "outputId": "96199aff-1b69-473b-cea5-ccbb7de58369"
      },
      "outputs": [
        {
          "output_type": "stream",
          "name": "stdout",
          "text": [
            "Enter cylinders : 8\n",
            "Enter displacement : 12\n",
            "Enter horsepower : 15\n",
            "Enter weight : 14\n",
            "Enter acceleration : 20\n",
            "Enter model_year : 16\n",
            "Enter origin : 23\n",
            "Predicted mpg for given car specifications is :  29.04413030101956\n"
          ]
        }
      ],
      "source": [
        "inputXTest = inputTestData();\n",
        "mpg = (lr.predict(inputXTest))[0]\n",
        "print (\"Predicted mpg for given car specifications is : \" , mpg)"
      ]
    },
    {
      "cell_type": "code",
      "execution_count": 47,
      "metadata": {
        "id": "p9x5rJidCacI",
        "colab": {
          "base_uri": "https://localhost:8080/",
          "height": 384
        },
        "outputId": "c857dbac-9a38-4e9b-dd7c-f946911e58e9"
      },
      "outputs": [
        {
          "output_type": "stream",
          "name": "stderr",
          "text": [
            "/usr/local/lib/python3.7/dist-packages/seaborn/distributions.py:2619: FutureWarning: `distplot` is a deprecated function and will be removed in a future version. Please adapt your code to use either `displot` (a figure-level function with similar flexibility) or `kdeplot` (an axes-level function for kernel density plots).\n",
            "  warnings.warn(msg, FutureWarning)\n",
            "/usr/local/lib/python3.7/dist-packages/seaborn/distributions.py:2619: FutureWarning: `distplot` is a deprecated function and will be removed in a future version. Please adapt your code to use either `displot` (a figure-level function with similar flexibility) or `kdeplot` (an axes-level function for kernel density plots).\n",
            "  warnings.warn(msg, FutureWarning)\n"
          ]
        },
        {
          "output_type": "display_data",
          "data": {
            "text/plain": [
              "<Figure size 432x288 with 1 Axes>"
            ],
            "image/png": "[encoded data removed]"
          },
          "metadata": {
            "needs_background": "light"
          }
        }
      ],
      "source": [
        "ax1 = sns.distplot(df['mpg'], hist=False, color=\"r\", label=\"Actual Value\")\n",
        "sns.distplot(y_pred1, hist=False, color=\"b\", label=\"Fitted Values\" , ax=ax1)\n",
        "\n",
        "\n",
        "plt.title('Actual vs Fitted Values for mpg')\n",
        "plt.xlabel('mpg')\n",
        "plt.ylabel('Proportion of Cars')\n",
        "\n",
        "plt.show()\n",
        "plt.close()"
      ]
    },
    {
      "cell_type": "markdown",
      "metadata": {
        "id": "wcKyZ4ApCs9c"
      },
      "source": [
        "## ***Decision Tree*** "
      ]
    },
    {
      "cell_type": "code",
      "execution_count": 48,
      "metadata": {
        "id": "U356a5B0Csa1",
        "colab": {
          "base_uri": "https://localhost:8080/",
          "height": 0
        },
        "outputId": "47ecbdf0-9e1e-44ef-f868-db60064ff619"
      },
      "outputs": [
        {
          "output_type": "execute_result",
          "data": {
            "text/plain": [
              "DecisionTreeRegressor(random_state=0)"
            ]
          },
          "metadata": {},
          "execution_count": 48
        }
      ],
      "source": [
        "dtree=DecisionTreeRegressor(random_state=0,criterion=\"squared_error\",splitter='best')\n",
        "dtree2=DecisionTreeRegressor(random_state=0)\n",
        "\n",
        "dtree2.fit(x_train,y_train)"
      ]
    },
    {
      "cell_type": "code",
      "execution_count": 49,
      "metadata": {
        "id": "7yDCIavcDshB",
        "colab": {
          "base_uri": "https://localhost:8080/",
          "height": 0
        },
        "outputId": "297ac611-3374-435f-b5f1-27ad31b91983"
      },
      "outputs": [
        {
          "output_type": "execute_result",
          "data": {
            "text/plain": [
              "array([13. , 26.5, 14. , 19. , 18. , 31. , 29.8, 21. , 18. , 24.2, 34.3,\n",
              "       39. , 15. , 24.5, 15.5, 32. , 27. , 26.6, 16.5, 46.6, 16. , 23. ,\n",
              "       24. , 19. , 34.2, 24.2, 44.6, 31. , 32. , 16. , 19.2, 35. , 15. ,\n",
              "       32. , 19.1, 25. , 19.4, 16. , 33. , 12. , 14. , 14. , 28.4, 34.3,\n",
              "       29.8, 20. , 19.4, 11. , 21. , 31. , 33.7, 25. , 13. , 28. , 14. ,\n",
              "       11. , 18. , 30.7, 32. , 18. ])"
            ]
          },
          "metadata": {},
          "execution_count": 49
        }
      ],
      "source": [
        "y_pred2=dtree2.predict(x_test)\n",
        "y_pred2"
      ]
    },
    {
      "cell_type": "code",
      "execution_count": 50,
      "metadata": {
        "id": "8zQAiChKEc6c"
      },
      "outputs": [],
      "source": [
        "import os\n",
        "path = \"D:/VIT Chennai/Fall Semester 22-23/ML/proj\"\n",
        "#os.environ[path] = os.environ[path]+';'+os.environ['CONDA_PREFIX']+r\"\\Library\\bin\\graphviz\"\n",
        "from six import StringIO\n",
        "from IPython.display import Image  \n",
        "from sklearn.tree import export_graphviz\n",
        "import pydotplus\n",
        "dot_data = StringIO()\n",
        "\n",
        "cn = ['cylinders', 'displacement','horsepower','weight','acceleration','model year','origin']\n",
        "export_graphviz(dtree2, out_file=dot_data,\n",
        "                class_names =  cn, \n",
        "                filled=True, rounded=True,\n",
        "                special_characters=True)\n",
        "\n",
        "graph = pydotplus.graph_from_dot_data(dot_data.getvalue())  \n",
        "Image(graph.create_png())"
      ]
    },
    {
      "cell_type": "code",
      "execution_count": 88,
      "metadata": {
        "colab": {
          "base_uri": "https://localhost:8080/",
          "height": 328
        },
        "id": "bUcQpULIF_Bl",
        "outputId": "a26ac8b8-78a7-4cb4-b5f7-fe356066801c"
      },
      "outputs": [
        {
          "output_type": "error",
          "ename": "ValueError",
          "evalue": "ignored",
          "traceback": [
            "\u001b[0;31m---------------------------------------------------------------------------\u001b[0m",
            "\u001b[0;31mValueError\u001b[0m                                Traceback (most recent call last)",
            "\u001b[0;32m<ipython-input-88-161d8a5e5696>\u001b[0m in \u001b[0;36m<module>\u001b[0;34m\u001b[0m\n\u001b[0;32m----> 1\u001b[0;31m \u001b[0mprint\u001b[0m\u001b[0;34m(\u001b[0m\u001b[0;34m\"R2 Score :\"\u001b[0m \u001b[0;34m,\u001b[0m\u001b[0mr2_score\u001b[0m\u001b[0;34m(\u001b[0m\u001b[0my_test\u001b[0m\u001b[0;34m,\u001b[0m\u001b[0my_pred2\u001b[0m\u001b[0;34m)\u001b[0m\u001b[0;34m)\u001b[0m\u001b[0;34m\u001b[0m\u001b[0;34m\u001b[0m\u001b[0m\n\u001b[0m\u001b[1;32m      2\u001b[0m \u001b[0mprint\u001b[0m\u001b[0;34m(\u001b[0m\u001b[0;34m\"Mean Square Error  :\"\u001b[0m \u001b[0;34m,\u001b[0m\u001b[0mnp\u001b[0m\u001b[0;34m.\u001b[0m\u001b[0msqrt\u001b[0m\u001b[0;34m(\u001b[0m\u001b[0mmean_squared_error\u001b[0m\u001b[0;34m(\u001b[0m\u001b[0my_test\u001b[0m\u001b[0;34m,\u001b[0m\u001b[0my_pred2\u001b[0m\u001b[0;34m)\u001b[0m\u001b[0;34m)\u001b[0m\u001b[0;34m)\u001b[0m\u001b[0;34m\u001b[0m\u001b[0;34m\u001b[0m\u001b[0m\n",
            "\u001b[0;32m/usr/local/lib/python3.7/dist-packages/sklearn/metrics/_regression.py\u001b[0m in \u001b[0;36mr2_score\u001b[0;34m(y_true, y_pred, sample_weight, multioutput)\u001b[0m\n\u001b[1;32m    788\u001b[0m     \"\"\"\n\u001b[1;32m    789\u001b[0m     y_type, y_true, y_pred, multioutput = _check_reg_targets(\n\u001b[0;32m--> 790\u001b[0;31m         \u001b[0my_true\u001b[0m\u001b[0;34m,\u001b[0m \u001b[0my_pred\u001b[0m\u001b[0;34m,\u001b[0m \u001b[0mmultioutput\u001b[0m\u001b[0;34m\u001b[0m\u001b[0;34m\u001b[0m\u001b[0m\n\u001b[0m\u001b[1;32m    791\u001b[0m     )\n\u001b[1;32m    792\u001b[0m     \u001b[0mcheck_consistent_length\u001b[0m\u001b[0;34m(\u001b[0m\u001b[0my_true\u001b[0m\u001b[0;34m,\u001b[0m \u001b[0my_pred\u001b[0m\u001b[0;34m,\u001b[0m \u001b[0msample_weight\u001b[0m\u001b[0;34m)\u001b[0m\u001b[0;34m\u001b[0m\u001b[0;34m\u001b[0m\u001b[0m\n",
            "\u001b[0;32m/usr/local/lib/python3.7/dist-packages/sklearn/metrics/_regression.py\u001b[0m in \u001b[0;36m_check_reg_targets\u001b[0;34m(y_true, y_pred, multioutput, dtype)\u001b[0m\n\u001b[1;32m     92\u001b[0m         \u001b[0mthe\u001b[0m \u001b[0mdtype\u001b[0m \u001b[0margument\u001b[0m \u001b[0mpassed\u001b[0m \u001b[0mto\u001b[0m \u001b[0mcheck_array\u001b[0m\u001b[0;34m.\u001b[0m\u001b[0;34m\u001b[0m\u001b[0;34m\u001b[0m\u001b[0m\n\u001b[1;32m     93\u001b[0m     \"\"\"\n\u001b[0;32m---> 94\u001b[0;31m     \u001b[0mcheck_consistent_length\u001b[0m\u001b[0;34m(\u001b[0m\u001b[0my_true\u001b[0m\u001b[0;34m,\u001b[0m \u001b[0my_pred\u001b[0m\u001b[0;34m)\u001b[0m\u001b[0;34m\u001b[0m\u001b[0;34m\u001b[0m\u001b[0m\n\u001b[0m\u001b[1;32m     95\u001b[0m     \u001b[0my_true\u001b[0m \u001b[0;34m=\u001b[0m \u001b[0mcheck_array\u001b[0m\u001b[0;34m(\u001b[0m\u001b[0my_true\u001b[0m\u001b[0;34m,\u001b[0m \u001b[0mensure_2d\u001b[0m\u001b[0;34m=\u001b[0m\u001b[0;32mFalse\u001b[0m\u001b[0;34m,\u001b[0m \u001b[0mdtype\u001b[0m\u001b[0;34m=\u001b[0m\u001b[0mdtype\u001b[0m\u001b[0;34m)\u001b[0m\u001b[0;34m\u001b[0m\u001b[0;34m\u001b[0m\u001b[0m\n\u001b[1;32m     96\u001b[0m     \u001b[0my_pred\u001b[0m \u001b[0;34m=\u001b[0m \u001b[0mcheck_array\u001b[0m\u001b[0;34m(\u001b[0m\u001b[0my_pred\u001b[0m\u001b[0;34m,\u001b[0m \u001b[0mensure_2d\u001b[0m\u001b[0;34m=\u001b[0m\u001b[0;32mFalse\u001b[0m\u001b[0;34m,\u001b[0m \u001b[0mdtype\u001b[0m\u001b[0;34m=\u001b[0m\u001b[0mdtype\u001b[0m\u001b[0;34m)\u001b[0m\u001b[0;34m\u001b[0m\u001b[0;34m\u001b[0m\u001b[0m\n",
            "\u001b[0;32m/usr/local/lib/python3.7/dist-packages/sklearn/utils/validation.py\u001b[0m in \u001b[0;36mcheck_consistent_length\u001b[0;34m(*arrays)\u001b[0m\n\u001b[1;32m    332\u001b[0m         raise ValueError(\n\u001b[1;32m    333\u001b[0m             \u001b[0;34m\"Found input variables with inconsistent numbers of samples: %r\"\u001b[0m\u001b[0;34m\u001b[0m\u001b[0;34m\u001b[0m\u001b[0m\n\u001b[0;32m--> 334\u001b[0;31m             \u001b[0;34m%\u001b[0m \u001b[0;34m[\u001b[0m\u001b[0mint\u001b[0m\u001b[0;34m(\u001b[0m\u001b[0ml\u001b[0m\u001b[0;34m)\u001b[0m \u001b[0;32mfor\u001b[0m \u001b[0ml\u001b[0m \u001b[0;32min\u001b[0m \u001b[0mlengths\u001b[0m\u001b[0;34m]\u001b[0m\u001b[0;34m\u001b[0m\u001b[0;34m\u001b[0m\u001b[0m\n\u001b[0m\u001b[1;32m    335\u001b[0m         )\n\u001b[1;32m    336\u001b[0m \u001b[0;34m\u001b[0m\u001b[0m\n",
            "\u001b[0;31mValueError\u001b[0m: Found input variables with inconsistent numbers of samples: [359, 60]"
          ]
        }
      ],
      "source": [
        "print(\"R2 Score :\" ,r2_score(y_test,y_pred2))\n",
        "print(\"Mean Square Error  :\" ,np.sqrt(mean_squared_error(y_test,y_pred2)))"
      ]
    },
    {
      "cell_type": "code",
      "execution_count": null,
      "metadata": {
        "id": "JfUTBQD3GHmw"
      },
      "outputs": [],
      "source": [
        "ax1 = sns.distplot(df['mpg'], hist=False, color=\"r\", label=\"Actual Value\")\n",
        "sns.distplot(y_pred2, hist=False, color=\"b\", label=\"Fitted Values\" , ax=ax1)\n",
        "\n",
        "\n",
        "plt.title('Actual vs Fitted Values for mpg')\n",
        "plt.xlabel('mpg')\n",
        "plt.ylabel('Proportion of Cars')\n",
        "\n",
        "plt.show()\n",
        "plt.close()"
      ]
    },
    {
      "cell_type": "markdown",
      "metadata": {
        "id": "6PjDpMD0kScy"
      },
      "source": [
        "***Decision Tree with categorical labels*** "
      ]
    },
    {
      "cell_type": "code",
      "execution_count": null,
      "metadata": {
        "id": "tXpnLYJ4lOZX"
      },
      "outputs": [],
      "source": [
        "y_train.std()\n",
        "\n",
        "y_train"
      ]
    },
    {
      "cell_type": "markdown",
      "metadata": {
        "id": "Bts6-ZkwueNL"
      },
      "source": [
        "***Converting MPG Numerical data into Ranges***"
      ]
    },
    {
      "cell_type": "code",
      "execution_count": null,
      "metadata": {
        "id": "OGX-G8oBpWER"
      },
      "outputs": [],
      "source": [
        "\n",
        "bin_ranges = [0,4,8,12,16,20,24,28,32,36,40,44,48,52]\n",
        "bin_names = [1, 2, 3, 4, 5, 6,7,8,9,10,11,12,13]\n",
        "\n",
        "df2 = df.copy()\n",
        "\n",
        "df2['mpg_bin_custom_range'] = pd.cut( np.array(\n",
        "                                              df2['mpg']), \n",
        "                                              bins=bin_ranges)\n",
        "\n",
        "df2['mpg_bin_custom_label'] = pd.cut(np.array(\n",
        "                                              df2['mpg']), \n",
        "                                              bins=bin_ranges,            \n",
        "                                              labels=bin_names)\n",
        "# view the binned features \n",
        "df2[['mpg','mpg_bin_custom_range', \n",
        "               'mpg_bin_custom_label']].iloc[10:50]\n",
        "\n",
        "df2"
      ]
    },
    {
      "cell_type": "code",
      "execution_count": null,
      "metadata": {
        "id": "8-xREgifvOsD"
      },
      "outputs": [],
      "source": [
        "X2=df2.iloc[:,1:8]\n",
        "X2.head()\n",
        "y2=df2['mpg_bin_custom_label']\n",
        "y2.head()\n",
        "\n",
        "x_train2,x_test2,y_train2,y_test2=train_test_split(X2,y2,test_size=0.15,random_state=0)"
      ]
    },
    {
      "cell_type": "code",
      "execution_count": null,
      "metadata": {
        "id": "ESVWJXlHkgt_"
      },
      "outputs": [],
      "source": [
        "dtree=DecisionTreeRegressor(random_state=0,criterion=\"squared_error\",splitter='best')\n",
        "\n",
        "dtree2.fit(x_train2,y_train2)\n",
        "\n",
        "y_pred2_1=dtree2.predict(x_test2)\n",
        "y_pred2_1"
      ]
    },
    {
      "cell_type": "code",
      "execution_count": null,
      "metadata": {
        "id": "SbmGwTwEksG-"
      },
      "outputs": [],
      "source": [
        "import os\n",
        "path = \"D:/VIT Chennai/Fall Semester 22-23/ML/proj\"\n",
        "#os.environ[path] = os.environ[path]+';'+os.environ['CONDA_PREFIX']+r\"\\Library\\bin\\graphviz\"\n",
        "from six import StringIO\n",
        "from IPython.display import Image  \n",
        "from sklearn.tree import export_graphviz\n",
        "import pydotplus\n",
        "dot_data = StringIO()\n",
        "\n",
        "cn = ['cylinders', 'displacement','horsepower','weight','acceleration','model year','origin']\n",
        "\n",
        "export_graphviz(dtree2, out_file=dot_data,\n",
        "                class_names =  cn, \n",
        "                filled=True, rounded=True,\n",
        "                special_characters=True)\n",
        "\n",
        "graph = pydotplus.graph_from_dot_data(dot_data.getvalue())  \n",
        "Image(graph.create_png())"
      ]
    },
    {
      "cell_type": "code",
      "execution_count": null,
      "metadata": {
        "id": "TY0HJwZTku3g"
      },
      "outputs": [],
      "source": [
        "print(\"R2 Score :\" ,r2_score(y_test2,y_pred2))\n",
        "print(\"Mean Square Error  :\" ,np.sqrt(mean_squared_error(y_test,y_pred2)))"
      ]
    },
    {
      "cell_type": "code",
      "execution_count": null,
      "metadata": {
        "id": "x0CueR1Tkxf9"
      },
      "outputs": [],
      "source": [
        "ax1 = sns.distplot(df2['mpg_bin_custom_label'], hist=False, color=\"r\", label=\"Actual Value\")\n",
        "sns.distplot(y_pred2, hist=False, color=\"b\", label=\"Fitted Values\" , ax=ax1)\n",
        "\n",
        "\n",
        "plt.title('Actual vs Fitted Values for mpg')\n",
        "plt.xlabel('mpg')\n",
        "plt.ylabel('Proportion of Cars')\n",
        "\n",
        "plt.show()\n",
        "plt.close()"
      ]
    },
    {
      "cell_type": "code",
      "execution_count": null,
      "metadata": {
        "id": "YBugjAi-AYY7"
      },
      "outputs": [],
      "source": [
        "X=df.iloc[:,1:8]\n",
        "X.head()\n",
        "y=df['mpg']\n",
        "y.head()\n",
        "x_train,x_test,y_train,y_test=train_test_split(X,y,test_size=0.15,random_state=0)"
      ]
    },
    {
      "cell_type": "markdown",
      "metadata": {
        "id": "106_0RoWMw6q"
      },
      "source": [
        "## ***KNN***"
      ]
    },
    {
      "cell_type": "code",
      "execution_count": null,
      "metadata": {
        "id": "9s--CMfxMzCW"
      },
      "outputs": [],
      "source": [
        "knn = KNeighborsRegressor(n_neighbors = 110)\n",
        "knn.fit(x_train, y_train)\n"
      ]
    },
    {
      "cell_type": "code",
      "execution_count": null,
      "metadata": {
        "id": "Uc8sujpmNa7e"
      },
      "outputs": [],
      "source": [
        "\n",
        "y_pred3=knn.predict(x_test)\n",
        "y_pred3"
      ]
    },
    {
      "cell_type": "code",
      "execution_count": null,
      "metadata": {
        "id": "mqWJLmOeNiWZ"
      },
      "outputs": [],
      "source": [
        "print(\"R2 Score :\" ,r2_score(y_test,y_pred3))\n",
        "print(\"Mean Square Error  :\" ,np.sqrt(mean_squared_error(y_test,y_pred3)))"
      ]
    },
    {
      "cell_type": "code",
      "execution_count": null,
      "metadata": {
        "id": "FbGWiniHN5xh"
      },
      "outputs": [],
      "source": [
        "ax1 = sns.distplot(df['mpg'], hist=False, color=\"r\", label=\"Actual Value\")\n",
        "sns.distplot(y_pred3, hist=False, color=\"b\", label=\"Fitted Values\" , ax=ax1)\n",
        "\n",
        "\n",
        "plt.title('Actual vs Fitted Values for mpg')\n",
        "plt.xlabel('mpg')\n",
        "plt.ylabel('Proportion of Cars')\n",
        "\n",
        "plt.show()\n",
        "plt.close()"
      ]
    },
    {
      "cell_type": "markdown",
      "metadata": {
        "id": "cFR1AUNCGNca"
      },
      "source": [
        "## ***Random forest***"
      ]
    },
    {
      "cell_type": "code",
      "execution_count": null,
      "metadata": {
        "id": "VMeklcmdGMtn"
      },
      "outputs": [],
      "source": [
        "rf= RandomForestRegressor(n_estimators=10,random_state=0,criterion='squared_error')\n",
        "rf.fit(x_train,y_train)"
      ]
    },
    {
      "cell_type": "code",
      "execution_count": null,
      "metadata": {
        "id": "SUW1qkiMIp3O"
      },
      "outputs": [],
      "source": [
        "y_pred4=rf.predict(x_test)\n",
        "y_pred4"
      ]
    },
    {
      "cell_type": "code",
      "execution_count": null,
      "metadata": {
        "id": "bDl2oJ-OI38h"
      },
      "outputs": [],
      "source": [
        "print(\"R2 Score :\" ,r2_score(y_test,y_pred4))\n",
        "print(\"Mean Square Error  :\" ,np.sqrt(mean_squared_error(y_test,y_pred4)))"
      ]
    },
    {
      "cell_type": "code",
      "execution_count": null,
      "metadata": {
        "id": "i_6G74X8I9VY"
      },
      "outputs": [],
      "source": [
        "ax1 = sns.distplot(df['mpg'], hist=False, color=\"r\", label=\"Actual Value\")\n",
        "sns.distplot(y_pred4, hist=False, color=\"b\", label=\"Fitted Values\" , ax=ax1)\n",
        "\n",
        "\n",
        "plt.title('Actual vs Fitted Values for mpg')\n",
        "plt.xlabel('mpg')\n",
        "plt.ylabel('Proportion of Cars')\n",
        "\n",
        "plt.show()\n",
        "plt.close()"
      ]
    },
    {
      "cell_type": "code",
      "source": [
        "X=df.iloc[:,1:8]\n",
        "X.head()\n",
        "y=df['mpg']\n",
        "y.head()\n",
        "x_train,x_test,y_train,y_test=train_test_split(X,y,test_size=0.15,random_state=0)"
      ],
      "metadata": {
        "id": "aB-oNMk8cMdj"
      },
      "execution_count": null,
      "outputs": []
    },
    {
      "cell_type": "markdown",
      "metadata": {
        "id": "lI2baFq7JBrN"
      },
      "source": [
        "## **XGBoost**"
      ]
    },
    {
      "cell_type": "code",
      "execution_count": null,
      "metadata": {
        "id": "7vSteis7JBMy"
      },
      "outputs": [],
      "source": [
        "xgb= xg.XGBRegressor(objective ='reg:linear', n_estimators = 100, seed = 123)\n",
        "xgb.fit(x_train,y_train)"
      ]
    },
    {
      "cell_type": "code",
      "execution_count": null,
      "metadata": {
        "id": "V5RXyWxuMeqn"
      },
      "outputs": [],
      "source": [
        "y_pred5=xgb.predict(x_test)\n",
        "y_pred5"
      ]
    },
    {
      "cell_type": "code",
      "execution_count": null,
      "metadata": {
        "id": "xIX4pJ59Mny5"
      },
      "outputs": [],
      "source": [
        "print(\"R2 Score :\" ,r2_score(y_test,y_pred5))\n",
        "print(\"Mean Square Error  :\" ,np.sqrt(mean_squared_error(y_test,y_pred5)))"
      ]
    },
    {
      "cell_type": "code",
      "execution_count": null,
      "metadata": {
        "id": "AJhxoqHPMtHg"
      },
      "outputs": [],
      "source": [
        "ax1 = sns.distplot(df['mpg'], hist=False, color=\"r\", label=\"Actual Value\")\n",
        "sns.distplot(y_pred5, hist=False, color=\"b\", label=\"Fitted Values\" , ax=ax1)\n",
        "\n",
        "\n",
        "plt.title('Actual vs Fitted Values for mpg')\n",
        "plt.xlabel('mpg')\n",
        "plt.ylabel('Proportion of Cars')\n",
        "\n",
        "plt.show()\n",
        "plt.close()"
      ]
    },
    {
      "cell_type": "markdown",
      "metadata": {
        "id": "gkpUHSCnRF48"
      },
      "source": [
        "## ***Ridge Regression Model***"
      ]
    },
    {
      "cell_type": "code",
      "execution_count": null,
      "metadata": {
        "id": "1LyI9MjgRLkd"
      },
      "outputs": [],
      "source": [
        "ridge = Ridge(alpha=.01)\n",
        "ridge.fit(x_train,y_train)  "
      ]
    },
    {
      "cell_type": "code",
      "execution_count": null,
      "metadata": {
        "id": "LG0zO673RSA2"
      },
      "outputs": [],
      "source": [
        "y_pred6 = ridge.predict(x_test) \n",
        "y_pred6"
      ]
    },
    {
      "cell_type": "code",
      "execution_count": null,
      "metadata": {
        "id": "Cd72pIjaRz1y"
      },
      "outputs": [],
      "source": [
        "print(\"R2 Score :\" ,r2_score(y_test,y_pred6))\n",
        "print(\"Mean Square Error  :\" ,np.sqrt(mean_squared_error(y_test,y_pred6)))"
      ]
    },
    {
      "cell_type": "code",
      "execution_count": null,
      "metadata": {
        "id": "fd93KSAmR3QK"
      },
      "outputs": [],
      "source": [
        "ax1 = sns.distplot(df['mpg'], hist=False, color=\"r\", label=\"Actual Value\")\n",
        "sns.distplot(y_pred6, hist=False, color=\"b\", label=\"Fitted Values\" , ax=ax1)\n",
        "\n",
        "\n",
        "plt.title('Actual vs Fitted Values for mpg')\n",
        "plt.xlabel('mpg')\n",
        "plt.ylabel('Proportion of Cars')\n",
        "\n",
        "plt.show()\n",
        "plt.close()"
      ]
    },
    {
      "cell_type": "markdown",
      "metadata": {
        "id": "VQ9saXl5R7GB"
      },
      "source": [
        "## ***Lasso Model***"
      ]
    },
    {
      "cell_type": "code",
      "execution_count": null,
      "metadata": {
        "id": "yZXTIISISJeZ"
      },
      "outputs": [],
      "source": [
        "lasso = Lasso()\n",
        "#param['max_iter'] = [1000,10000,100000,1000000]\n",
        "#lasso_search = GridSearchCV(lasso,param,cv=5,n_jobs=-1) # initialize the grid search\n",
        "lasso.fit(x_train,y_train)"
      ]
    },
    {
      "cell_type": "code",
      "execution_count": null,
      "metadata": {
        "id": "V2UhmG0STOHz"
      },
      "outputs": [],
      "source": [
        "y_pred7 = lasso.predict(x_test) \n",
        "y_pred7"
      ]
    },
    {
      "cell_type": "code",
      "execution_count": null,
      "metadata": {
        "id": "o3sXRqz2TXSI"
      },
      "outputs": [],
      "source": [
        "print(\"R2 Score :\" ,r2_score(y_test,y_pred7))\n",
        "print(\"Mean Square Error  :\" ,np.sqrt(mean_squared_error(y_test,y_pred7)))"
      ]
    },
    {
      "cell_type": "code",
      "execution_count": null,
      "metadata": {
        "id": "Irai1u0hTb83"
      },
      "outputs": [],
      "source": [
        "ax1 = sns.distplot(df['mpg'], hist=False, color=\"r\", label=\"Actual Value\")\n",
        "sns.distplot(y_pred7, hist=False, color=\"b\", label=\"Fitted Values\" , ax=ax1)\n",
        "\n",
        "\n",
        "plt.title('Actual vs Fitted Values for mpg')\n",
        "plt.xlabel('mpg')\n",
        "plt.ylabel('Proportion of Cars')\n",
        "\n",
        "plt.show()\n",
        "plt.close()"
      ]
    },
    {
      "cell_type": "code",
      "execution_count": null,
      "metadata": {
        "id": "C7JXTaezTlft"
      },
      "outputs": [],
      "source": [
        "Acc=[r2_score(y_test,y_pred1),r2_score(y_test,y_pred2),r2_score(y_test,y_pred3),r2_score(y_test,y_pred4),r2_score(y_test,y_pred5),r2_score(y_test,y_pred6),r2_score(y_test,y_pred7)]\n",
        "\n",
        "Name=[\"Linear Regression\",\"Decision Tree\",\"KNN\",\"Random Forest\",\"XGBoost\",\"Ridge Regression\",\"Lasso Model\"]\n",
        "\n",
        "indices = [i for i in range(len(Acc)) if Acc[i] == max(Acc)]\n",
        "\n",
        "print(\"Accuracy Score\",\"        \",\" ALgorithm\",\"\\n\")\n",
        "\n",
        "for i in indices:\n",
        "  print(max(Acc),\"--->\",Name[i])"
      ]
    },
    {
      "cell_type": "markdown",
      "metadata": {
        "id": "6_39dbdyA2Ya"
      },
      "source": [
        "#K Fold Algorithm\n",
        "\n"
      ]
    },
    {
      "cell_type": "code",
      "execution_count": null,
      "metadata": {
        "id": "A0rCkEE8KitP"
      },
      "outputs": [],
      "source": [
        "from sklearn.model_selection import cross_val_score\n",
        "from sklearn.model_selection import ShuffleSplit\n",
        "\n",
        "def custom_cv_2folds(X):\n",
        "    n = X.shape[0]\n",
        "    i = 1\n",
        "    while i <= 2:\n",
        "        idx = np.arange(n * (i - 1) / 2, n * i / 2, dtype=int)\n",
        "        yield idx, idx\n",
        "        i += 1\n",
        "\n",
        "n_samples = X.shape[0]\n",
        "cv = ShuffleSplit(n_splits=10, test_size=0.3, random_state=0)\n",
        "cross_val_score(rf, X, y, cv=cv)\n",
        "\n",
        "\n",
        "#custom_cv = custom_cv_2folds(X)\n",
        "#cross_val_score(rf, X, y, cv=custom_cv)\n"
      ]
    },
    {
      "cell_type": "code",
      "execution_count": 84,
      "metadata": {
        "colab": {
          "base_uri": "https://localhost:8080/",
          "height": 0
        },
        "id": "4m2j41-aQNX1",
        "outputId": "fd9aee86-3d69-4d91-d86e-87b32932aae3"
      },
      "outputs": [
        {
          "metadata": {
            "tags": null
          },
          "name": "stdout",
          "output_type": "stream",
          "text": [
            "[199 200 201 202 203 204 205 206 207 208 209 210 211 212 213 214 215 216\n",
            " 217 218 219 220 221 222 223 224 225 226 227 228 229 230 231 232 233 234\n",
            " 235 236 237 238 239 240 241 242 243 244 245 246 247 248 249 250 251 252\n",
            " 253 254 255 256 257 258 259 260 261 262 263 264 265 266 267 268 269 270\n",
            " 271 272 273 274 275 276 277 278 279 280 281 282 283 284 285 286 287 288\n",
            " 289 290 291 292 293 294 295 296 297 298 299 300 301 302 303 304 305 306\n",
            " 307 308 309 310 311 312 313 314 315 316 317 318 319 320 321 322 323 324\n",
            " 325 326 327 328 329 330 331 332 333 334 335 336 337 338 339 340 341 342\n",
            " 343 344 345 346 347 348 349 350 351 352 353 354 355 356 357 358 359 360\n",
            " 361 362 363 364 365 366 367 368 369 370 371 372 373 374 375 376 377 378\n",
            " 379 380 381 382 383 384 385 386 387 388 389 390 391 392 393 394 395 396\n",
            " 397] [  0   1   2   3   4   5   6   7   8   9  10  11  12  13  14  15  16  17\n",
            "  18  19  20  21  22  23  24  25  26  27  28  29  30  31  32  33  34  35\n",
            "  36  37  38  39  40  41  42  43  44  45  46  47  48  49  50  51  52  53\n",
            "  54  55  56  57  58  59  60  61  62  63  64  65  66  67  68  69  70  71\n",
            "  72  73  74  75  76  77  78  79  80  81  82  83  84  85  86  87  88  89\n",
            "  90  91  92  93  94  95  96  97  98  99 100 101 102 103 104 105 106 107\n",
            " 108 109 110 111 112 113 114 115 116 117 118 119 120 121 122 123 124 125\n",
            " 126 127 128 129 130 131 132 133 134 135 136 137 138 139 140 141 142 143\n",
            " 144 145 146 147 148 149 150 151 152 153 154 155 156 157 158 159 160 161\n",
            " 162 163 164 165 166 167 168 169 170 171 172 173 174 175 176 177 178 179\n",
            " 180 181 182 183 184 185 186 187 188 189 190 191 192 193 194 195 196 197\n",
            " 198]\n",
            "[  0   1   2   3   4   5   6   7   8   9  10  11  12  13  14  15  16  17\n",
            "  18  19  20  21  22  23  24  25  26  27  28  29  30  31  32  33  34  35\n",
            "  36  37  38  39  40  41  42  43  44  45  46  47  48  49  50  51  52  53\n",
            "  54  55  56  57  58  59  60  61  62  63  64  65  66  67  68  69  70  71\n",
            "  72  73  74  75  76  77  78  79  80  81  82  83  84  85  86  87  88  89\n",
            "  90  91  92  93  94  95  96  97  98  99 100 101 102 103 104 105 106 107\n",
            " 108 109 110 111 112 113 114 115 116 117 118 119 120 121 122 123 124 125\n",
            " 126 127 128 129 130 131 132 133 134 135 136 137 138 139 140 141 142 143\n",
            " 144 145 146 147 148 149 150 151 152 153 154 155 156 157 158 159 160 161\n",
            " 162 163 164 165 166 167 168 169 170 171 172 173 174 175 176 177 178 179\n",
            " 180 181 182 183 184 185 186 187 188 189 190 191 192 193 194 195 196 197\n",
            " 198] [199 200 201 202 203 204 205 206 207 208 209 210 211 212 213 214 215 216\n",
            " 217 218 219 220 221 222 223 224 225 226 227 228 229 230 231 232 233 234\n",
            " 235 236 237 238 239 240 241 242 243 244 245 246 247 248 249 250 251 252\n",
            " 253 254 255 256 257 258 259 260 261 262 263 264 265 266 267 268 269 270\n",
            " 271 272 273 274 275 276 277 278 279 280 281 282 283 284 285 286 287 288\n",
            " 289 290 291 292 293 294 295 296 297 298 299 300 301 302 303 304 305 306\n",
            " 307 308 309 310 311 312 313 314 315 316 317 318 319 320 321 322 323 324\n",
            " 325 326 327 328 329 330 331 332 333 334 335 336 337 338 339 340 341 342\n",
            " 343 344 345 346 347 348 349 350 351 352 353 354 355 356 357 358 359 360\n",
            " 361 362 363 364 365 366 367 368 369 370 371 372 373 374 375 376 377 378\n",
            " 379 380 381 382 383 384 385 386 387 388 389 390 391 392 393 394 395 396\n",
            " 397]\n"
          ]
        }
      ],
      "source": [
        "import numpy as np\n",
        "from sklearn.model_selection import KFold\n",
        "\n",
        "#X = [\"a\", \"b\", \"c\", \"d\"]\n",
        "kf = KFold(n_splits=2)\n",
        "for train, test in kf.split(X):\n",
        "    print(\"%s %s\" % (train, test))"
      ]
    },
    {
      "cell_type": "markdown",
      "metadata": {
        "id": "r-LKa0jHR2nb"
      },
      "source": [
        "***Random Permutation***"
      ]
    },
    {
      "cell_type": "code",
      "execution_count": 85,
      "metadata": {
        "id": "iOQEhJNcR5ob",
        "colab": {
          "base_uri": "https://localhost:8080/",
          "height": 0
        },
        "outputId": "941688c2-d9be-4e3e-bcf1-827b144911e0"
      },
      "outputs": [
        {
          "metadata": {
            "tags": null
          },
          "name": "stdout",
          "output_type": "stream",
          "text": [
            "[254 246 282  81 347 392 271  96  89 179  21 175 214 303  49 236 352  92\n",
            " 221 322 230 357 140  22 250 155 356 216 186 281  66 238 164 101 310 394\n",
            " 324  17 233 225  30 114 150 103 348 362 158 116 328 120 393 112 229 136\n",
            " 274 126 308 298 280 133  33 376 162  34 388  97  85  61 167 191 198 389\n",
            " 232 218 108  46 319 190 332  73 137 379 253 386  29 181 287 284  51 326\n",
            " 350  27   2 215 156 210 374 219 138 234 217 340 387 306 339  35 204 264\n",
            "  67  24 381  44 239 129  93 111 166 276 313 272  40  18 283  79 247 249\n",
            "  71  13 336 213 383 240 228 160 104 161  83 189 395 118 255 188 208 373\n",
            " 110 149 157 152  16 268  75 109 325 205 278 252 139 237 318 248 307  19\n",
            " 226 311   3 275 125  77 184 300 377 344 182 354  80 258  11 297  86 266\n",
            "  36 380  58  41 270  50 209 316 315 329 123 222  62 301 130 187  23  43\n",
            "   0 201 375  98 385 178 256  94 367  95 349 169  69 305  48 207 279 227\n",
            " 148 143 180 131 355 396 262 203  84 121 343 364  91  82 267 119 291  57\n",
            " 321 257 353  42 105 366 273 351  38  53 345 128 290  28 183 163 151 244\n",
            " 202  31  32 127 185 370 288 360 147 285 368 177  99 338 335 197 243 115\n",
            " 265  72 333  25 165 337 382 174 384  39 193 314  88  70  87 292 242 277\n",
            " 211   9 359 195 251 323 192 117  47 172] [ 65 132  74  78  37  54 294  60  12 341 330 312 100  59 223 295 397 372\n",
            " 135 304 231 170 173  76 302 361 245 369 342 134 260 320 154 220 363 171\n",
            " 176 289 293  90   6   1 296 334 390 122 194 212 113 142 309 141 224  52\n",
            "  10  26  45 365 391   4 200 206 107  15 106 159   5 153 168   7 346  68\n",
            "  20 199  14 269 235 145 196 124  64  55 317 102 358 331 371 261 299 378\n",
            "  56   8 241 144 327 286 263 146 259  63]\n",
            "[ 50 328  99 303  33 162  39 143 216 287 279  10 117  68 392 297 191 393\n",
            " 333 142   2   9 232 235 141 257 222 294 272  42 380 212 254  84 204 344\n",
            "  29 382  71  49 374 145 116  37 176  48 203 385 299 268 227 163  76  64\n",
            " 110  52 353 334 124  87 375 250 310 243 244 118  12 157 270 175 210 321\n",
            " 336  97 146 370 183 177  58 301 349  69 300 152 285  17 305 355 278 261\n",
            " 361 317  57 260 170 187  47 289  45 199 338  62  78 362 316 291 140 198\n",
            " 326 129 127 312 396 153 144 214 283  21  25 136  35  81 159 366  77 391\n",
            " 271 296 109 252 359 101 331 277  92 262 239 397  28 352 386  70 251 211\n",
            " 322 165 238 188 351 354  34  88 395 192 381 120 184 155 357 377 388 340\n",
            "  66 306 345 161 275 304 174 308 221 100 337 219 229 114 280 220  82 166\n",
            " 169  15 245 307   6 367 358 104  61 208  51  90 207  22 346 218  73 315\n",
            " 205   4 190 164 185 194  93 132 233 173 178 115  32 206 282  96 123 350\n",
            "  74  89  38 179   0  46 171 149 394 107 133 256 223  83 327 102 323 108\n",
            " 213 195 341 246  72  94 125 135 197 201 248 224  26 378 284 168 363   3\n",
            " 134 325 379 186  24 295 128 314 228 131 225 226 330 274 332 389 111  91\n",
            " 265  63  43 347 360 237 138 112 324 292  20  65 298 126 259 373 148 209\n",
            " 376 339 384 182 137 105   7 342 119 309] [158  85 290 313 335  14 196 236  55  31 122 172 390 147  56  36  75  40\n",
            "  60 293 181 263 215 302 156  27 387 365 103 319  16 240 269 266 231  30\n",
            "  13 234 383  53  41 139  79 288 193 371   8 121 273 167 255 189  98 217\n",
            " 150  11 264 343  59 202  80   1 318   5 113  23 311 281 154 230 180 372\n",
            " 151 160 276  19 241 253 348  86 368 320  54 249 329  44  67 267 369  95\n",
            " 106 356 258  18 200 286 364 130 247 242]\n",
            "[  4 221 237 189 280  75 288 127 166  91 130  44 202 125  20 381 305  18\n",
            " 342 274 269 168  57 201  27 346 319 128 143 193 107 283  50 360 243 138\n",
            " 259  70 358 105  10 140 231 172 149 371  31  64 301 397 258  72 366 262\n",
            "  33 348   1 384 181 359 314 284 285 186  76 303 249 317  58 385 106 387\n",
            " 383 263 219 194 136  73  85  28 146 129 324 325  60 333 187 241 389 378\n",
            " 395 308 227  82 205 210 320 185 115 276 343 233  55 224 195 139 113 388\n",
            " 223 211 102 345 363 118 103 394 271  78  15 352 121 133 281 304 122 174\n",
            " 351   3 218 151  16  51 306 270  89   6  45  95 245  25 311 247 344 147\n",
            " 309  97 248 350 226 111 196 277 183 213 244 298 295 375 170  21  98 175\n",
            " 154  81  77 310  24 132 265 390  88 364  38 291 164 313 117 336 261 266\n",
            " 339   2 300  96 182 292 199 376 282 119 361 362 239 110  43 341 307 134\n",
            " 217 293  87 200 365  65 353 167 272 216 165 238  94 225  29  59 296 179\n",
            " 338 188  40 169  93 250 380 316 214 123  74 148 260  19 379  30 150 370\n",
            " 157 253 100 197 209 264 275 101  13  68 112 315  71 163 337  54 290  90\n",
            " 286 334  11 114  47 155 393 246 158 354 278   7 347 279 377 327 228 206\n",
            " 230  79 190   9 373 145  48 318 312 255 229 116  84 368 144 323  61 131\n",
            " 252 330 207 215   0  80 180 135 396  83] [156 173 153 322  99 162 236 369 302 335 204  63  35 349 240 198  12  36\n",
            "  37 234 391  62   8 220  14 329 171   5 267 208 242 177 273 382  53 251\n",
            " 289 357 340 294 386  56  39 109  46  69 268 299  26 178 104 256  67 137\n",
            " 392  23 374  52 142 212 184 328 222 160 331 161 192 120 367 141 287 124\n",
            "  92 108  42  32 321 176  86 152  34 326 257  22 235 297 232 355  17 356\n",
            "  66 159  41 372 203 332 254  49 191 126]\n",
            "[  3  20 187 396  91 233  18  78 376 253 206  89 175 150  26 386 311   7\n",
            "  82 188 101  93 331 370 229  67 319 145 227 162 202 138  46  97 316 200\n",
            " 237  14 271 141 281  73  72 173 332 179 293 122 182 348   4 307 278  87\n",
            "  32  52 207 326 135 287 359 125 120 381 180 340 341  10  86  84 240 223\n",
            " 367 304 183 109 216 334 290 191  59 144 170 193  76   5 320 102  22  62\n",
            " 247  17 217  61  51 230 355  63 308 361 177 384 163 354 261 351 296 306\n",
            "  27 314 106 362 197 214 111  21 142 210 350 299 269  95 118  28 203 254\n",
            " 344   2 289  85 133 107 226 345 148 374  64 174 211   8 195 171 121 356\n",
            " 112  80 256  45  98  19  43  96 364 178 108 273 100 153 366 129   1  71\n",
            " 264  69 377  48 252 213  68 327 244 382 231 338 215  55 119  83 172 143\n",
            " 279  94 224 208 218  16 116 104 160  24 368 342 239  88 263  30 388 391\n",
            " 395 283  40  37 315  38 324 363 276 329 184 392  23 275 371 365 130  42\n",
            " 181 157 274  15 137 379 309 199  81  47 205  65 220 194 186 284 288 266\n",
            " 346 353 140 282  77  39 158 250 372 322 258 251 257  13 123 272 389 280\n",
            "  58 241 369 330 234 167 277  56 228 245  33 131 155 285 323 337  60  29\n",
            " 270  35 147 114 286 393 358  99 124 198  12 176 225  50 265 397  49 128\n",
            " 291 373 222 165 336  36 105 132 375 185] [169 394 110 303 292 325 294 339  79  74   9 297 385  11  41  92 317 154\n",
            " 305 168 209 246 310 352 146 103 236 318 312  66 295 117 238  54 260  34\n",
            " 149 127 259  75  53  70 333  44 248 390 335 164 249 378 242 139 212  57\n",
            " 161 343   6 349 189 221   0 134 136 268 387 235 166 156  25 302 152 126\n",
            " 267 347 219 357 196 300 298 243 113 321 201 360 383 301  90 313 328 232\n",
            " 190 204 159 380 262  31 115 151 255 192]\n",
            "[ 16 319 134  67 268 380 366 188 256 332 296 283 394 194  47 307 249 237\n",
            " 246 123 243 104 229 336 128 345 107 226  41 292 322 220 260 340 214 266\n",
            " 262 235 270 173 301 127 233 351 176 363 113 367  53 295 161 304 224  80\n",
            " 170 263  87   2 379 198  64 191 287   9 371 317  77  28 137   6 216 222\n",
            " 308  62 122 310 231 314 116  31  22 199 393 182 331 289 186 257   0  94\n",
            " 106 286  85  68 361 389 118 109 365 175   1 189 385 254 313  30 160 309\n",
            " 171 291 120 154 172  59 242 346 111  45 281 395  57 306  83  23 282 179\n",
            " 115 201  54 271 187 357 124 251 352 165 203 159 360 149 320  88 364  52\n",
            "  38 349 384 136 130 219  60 350 275 323 372 397 388  81   3 383 374  51\n",
            " 324 258 334 337 333 276  93 273  74 316 177 139 375  11  34 178 373 184\n",
            " 101  89  82  65 234 302 167 110 300 303 181 117  61 151 209  35 227  46\n",
            "  14 377   7 195 147  12  50 341  25 250  36 121 193 288 142 312 267 326\n",
            " 223 168 293  29  63 146  21 152  75  49 103  42 369  55 141  43 280 202\n",
            "  10 311 174 241 114 129 343  72 210 255  26  99 265 285 382 217 150 297\n",
            " 353 335  39 261 328 327  66 180   4  15 206 315 225 232 140 344  73   5\n",
            "  58 358  71 305  91 108  95  92 102 330 390 348 318 131 278  96 133 185\n",
            " 144 208 169 196 190 125 212 197  19 126] [391  13 138 376  86 213 192 164 244  98 157 387 215 338  70 381  69  79\n",
            " 218 386 339 204 325 321  76 112  40 378  18 239  97 368 238 392 163 200\n",
            " 294 355 100 253  48 143 299 236  56  33  37 148  84 155 158 247 166 396\n",
            " 162 228  44 221 156  78 274 362 370 284 205 135 277 269 264 356   8 342\n",
            "  17  24 354 245 290 259 248 359 211  32 272 119 132  27 207 240 153  90\n",
            " 298  20 183 279 329 230 252 105 347 145]\n"
          ]
        }
      ],
      "source": [
        "from sklearn.model_selection import ShuffleSplit\n",
        "\n",
        "ss = ShuffleSplit(n_splits=5, test_size=0.25, random_state=0)\n",
        "for train_index, test_index in ss.split(X):\n",
        "    print(\"%s %s\" % (train_index, test_index))"
      ]
    },
    {
      "cell_type": "code",
      "execution_count": 86,
      "metadata": {
        "id": "u4D_PW9xDKuu",
        "colab": {
          "base_uri": "https://localhost:8080/",
          "height": 0
        },
        "outputId": "fd65e021-3d00-4a93-fa2f-76a578936c62"
      },
      "outputs": [
        {
          "metadata": {
            "tags": null
          },
          "name": "stdout",
          "output_type": "stream",
          "text": [
            "[12:41:02] WARNING: /workspace/src/objective/regression_obj.cu:152: reg:linear is now deprecated in favor of reg:squarederror.\n",
            "[12:41:02] WARNING: /workspace/src/objective/regression_obj.cu:152: reg:linear is now deprecated in favor of reg:squarederror.\n",
            "[12:41:02] WARNING: /workspace/src/objective/regression_obj.cu:152: reg:linear is now deprecated in favor of reg:squarederror.\n",
            "[12:41:02] WARNING: /workspace/src/objective/regression_obj.cu:152: reg:linear is now deprecated in favor of reg:squarederror.\n",
            "[12:41:02] WARNING: /workspace/src/objective/regression_obj.cu:152: reg:linear is now deprecated in favor of reg:squarederror.\n",
            "[12:41:02] WARNING: /workspace/src/objective/regression_obj.cu:152: reg:linear is now deprecated in favor of reg:squarederror.\n",
            "[12:41:02] WARNING: /workspace/src/objective/regression_obj.cu:152: reg:linear is now deprecated in favor of reg:squarederror.\n",
            "[12:41:02] WARNING: /workspace/src/objective/regression_obj.cu:152: reg:linear is now deprecated in favor of reg:squarederror.\n",
            "[12:41:02] WARNING: /workspace/src/objective/regression_obj.cu:152: reg:linear is now deprecated in favor of reg:squarederror.\n"
          ]
        }
      ],
      "source": [
        "train_sizes = np.arange(start=0.1, stop=1, step=0.1)\n",
        "\n",
        "X=df.iloc[:,1:8]\n",
        "y=df['mpg']\n",
        "\n",
        "allAlgos = [lr,dtree,knn,rf,xgb,ridge,lasso]\n",
        "\n",
        "folds = []\n",
        "#allPreds = [ y_pred1,y_pred2 ,y_pred3,y_pred4,y_pred5,y_pred6,y_pred7]\n",
        "\n",
        "for i in train_sizes:\n",
        "  x_train,x_test,y_train,y_test=train_test_split(X,y,test_size=i,random_state=0)\n",
        "  ithFold = []\n",
        "  for x in range(0,7):\n",
        "    if(x==2):\n",
        "      allAlgos[x] = KNeighborsRegressor(n_neighbors = int((25*x_train.shape[0])/100))\n",
        "    allAlgos[x].fit(x_train,y_train)\n",
        "    ypred = allAlgos[x].predict(x_test)\n",
        "    acrcy = r2_score(y_test,ypred)\n",
        "    ithFold.append(acrcy)\n",
        "  folds.append(ithFold)\n",
        "\n",
        "\n"
      ]
    },
    {
      "cell_type": "code",
      "source": [
        "kfold_matrix = pd.DataFrame(folds)\n",
        "sizes = [\"10%\",\"20%\",\"30%\",\"40%\",\"50%\",\"60%\",\"70%\",\"80%\",\"90%\"]\n",
        "models = ['linearReg','Dtree','KNN','RandomForest','XGB','RidgeReg','LassoReg']\n",
        "\n",
        "\n",
        "kfold_matrix.index = sizes\n",
        "kfold_matrix.columns = models\n",
        "\n",
        "kfold_matrix"
      ],
      "metadata": {
        "colab": {
          "base_uri": "https://localhost:8080/",
          "height": 332
        },
        "id": "LN7H_OpPM_A7",
        "outputId": "7bc9ba2f-6746-4afd-9b46-ffb4f97ae53a"
      },
      "execution_count": 87,
      "outputs": [
        {
          "data": {
            "text/html": [
              "\n",
              "  <div id=\"df-979fb54a-6923-481c-9699-8f2683bf4279\">\n",
              "    <div class=\"colab-df-container\">\n",
              "      <div>\n",
              "<style scoped>\n",
              "    .dataframe tbody tr th:only-of-type {\n",
              "        vertical-align: middle;\n",
              "    }\n",
              "\n",
              "    .dataframe tbody tr th {\n",
              "        vertical-align: top;\n",
              "    }\n",
              "\n",
              "    .dataframe thead th {\n",
              "        text-align: right;\n",
              "    }\n",
              "</style>\n",
              "<table border=\"1\" class=\"dataframe\">\n",
              "  <thead>\n",
              "    <tr style=\"text-align: right;\">\n",
              "      <th></th>\n",
              "      <th>linearReg</th>\n",
              "      <th>Dtree</th>\n",
              "      <th>KNN</th>\n",
              "      <th>RandomForest</th>\n",
              "      <th>XGB</th>\n",
              "      <th>RidgeReg</th>\n",
              "      <th>LassoReg</th>\n",
              "    </tr>\n",
              "  </thead>\n",
              "  <tbody>\n",
              "    <tr>\n",
              "      <th>10%</th>\n",
              "      <td>0.844021</td>\n",
              "      <td>0.821429</td>\n",
              "      <td>0.775148</td>\n",
              "      <td>0.925175</td>\n",
              "      <td>0.896647</td>\n",
              "      <td>0.844022</td>\n",
              "      <td>0.845066</td>\n",
              "    </tr>\n",
              "    <tr>\n",
              "      <th>20%</th>\n",
              "      <td>0.818840</td>\n",
              "      <td>0.863060</td>\n",
              "      <td>0.765200</td>\n",
              "      <td>0.884362</td>\n",
              "      <td>0.871625</td>\n",
              "      <td>0.818841</td>\n",
              "      <td>0.823083</td>\n",
              "    </tr>\n",
              "    <tr>\n",
              "      <th>30%</th>\n",
              "      <td>0.816649</td>\n",
              "      <td>0.803957</td>\n",
              "      <td>0.727617</td>\n",
              "      <td>0.874296</td>\n",
              "      <td>0.874082</td>\n",
              "      <td>0.816649</td>\n",
              "      <td>0.807917</td>\n",
              "    </tr>\n",
              "    <tr>\n",
              "      <th>40%</th>\n",
              "      <td>0.806366</td>\n",
              "      <td>0.773747</td>\n",
              "      <td>0.704248</td>\n",
              "      <td>0.865565</td>\n",
              "      <td>0.871886</td>\n",
              "      <td>0.806365</td>\n",
              "      <td>0.789685</td>\n",
              "    </tr>\n",
              "    <tr>\n",
              "      <th>50%</th>\n",
              "      <td>0.809938</td>\n",
              "      <td>0.758224</td>\n",
              "      <td>0.706911</td>\n",
              "      <td>0.862220</td>\n",
              "      <td>0.872877</td>\n",
              "      <td>0.809938</td>\n",
              "      <td>0.795110</td>\n",
              "    </tr>\n",
              "    <tr>\n",
              "      <th>60%</th>\n",
              "      <td>0.803902</td>\n",
              "      <td>0.715298</td>\n",
              "      <td>0.694670</td>\n",
              "      <td>0.832892</td>\n",
              "      <td>0.844831</td>\n",
              "      <td>0.803901</td>\n",
              "      <td>0.789138</td>\n",
              "    </tr>\n",
              "    <tr>\n",
              "      <th>70%</th>\n",
              "      <td>0.802824</td>\n",
              "      <td>0.638236</td>\n",
              "      <td>0.688456</td>\n",
              "      <td>0.827557</td>\n",
              "      <td>0.829845</td>\n",
              "      <td>0.802823</td>\n",
              "      <td>0.785937</td>\n",
              "    </tr>\n",
              "    <tr>\n",
              "      <th>80%</th>\n",
              "      <td>0.799398</td>\n",
              "      <td>0.724222</td>\n",
              "      <td>0.685345</td>\n",
              "      <td>0.833843</td>\n",
              "      <td>0.815296</td>\n",
              "      <td>0.799407</td>\n",
              "      <td>0.794889</td>\n",
              "    </tr>\n",
              "    <tr>\n",
              "      <th>90%</th>\n",
              "      <td>0.792361</td>\n",
              "      <td>0.725957</td>\n",
              "      <td>0.642379</td>\n",
              "      <td>0.759723</td>\n",
              "      <td>0.789021</td>\n",
              "      <td>0.792397</td>\n",
              "      <td>0.787234</td>\n",
              "    </tr>\n",
              "  </tbody>\n",
              "</table>\n",
              "</div>\n",
              "      <button class=\"colab-df-convert\" onclick=\"convertToInteractive('df-979fb54a-6923-481c-9699-8f2683bf4279')\"\n",
              "              title=\"Convert this dataframe to an interactive table.\"\n",
              "              style=\"display:none;\">\n",
              "        \n",
              "  <svg xmlns=\"http://www.w3.org/2000/svg\" height=\"24px\"viewBox=\"0 0 24 24\"\n",
              "       width=\"24px\">\n",
              "    <path d=\"M0 0h24v24H0V0z\" fill=\"none\"/>\n",
              "    <path d=\"M18.56 5.44l.94 2.06.94-2.06 2.06-.94-2.06-.94-.94-2.06-.94 2.06-2.06.94zm-11 1L8.5 8.5l.94-2.06 2.06-.94-2.06-.94L8.5 2.5l-.94 2.06-2.06.94zm10 10l.94 2.06.94-2.06 2.06-.94-2.06-.94-.94-2.06-.94 2.06-2.06.94z\"/><path d=\"M17.41 7.96l-1.37-1.37c-.4-.4-.92-.59-1.43-.59-.52 0-1.04.2-1.43.59L10.3 9.45l-7.72 7.72c-.78.78-.78 2.05 0 2.83L4 21.41c.39.39.9.59 1.41.59.51 0 1.02-.2 1.41-.59l7.78-7.78 2.81-2.81c.8-.78.8-2.07 0-2.86zM5.41 20L4 18.59l7.72-7.72 1.47 1.35L5.41 20z\"/>\n",
              "  </svg>\n",
              "      </button>\n",
              "      \n",
              "  <style>\n",
              "    .colab-df-container {\n",
              "      display:flex;\n",
              "      flex-wrap:wrap;\n",
              "      gap: 12px;\n",
              "    }\n",
              "\n",
              "    .colab-df-convert {\n",
              "      background-color: #E8F0FE;\n",
              "      border: none;\n",
              "      border-radius: 50%;\n",
              "      cursor: pointer;\n",
              "      display: none;\n",
              "      fill: #1967D2;\n",
              "      height: 32px;\n",
              "      padding: 0 0 0 0;\n",
              "      width: 32px;\n",
              "    }\n",
              "\n",
              "    .colab-df-convert:hover {\n",
              "      background-color: #E2EBFA;\n",
              "      box-shadow: 0px 1px 2px rgba(60, 64, 67, 0.3), 0px 1px 3px 1px rgba(60, 64, 67, 0.15);\n",
              "      fill: #174EA6;\n",
              "    }\n",
              "\n",
              "    [theme=dark] .colab-df-convert {\n",
              "      background-color: #3B4455;\n",
              "      fill: #D2E3FC;\n",
              "    }\n",
              "\n",
              "    [theme=dark] .colab-df-convert:hover {\n",
              "      background-color: #434B5C;\n",
              "      box-shadow: 0px 1px 3px 1px rgba(0, 0, 0, 0.15);\n",
              "      filter: drop-shadow(0px 1px 2px rgba(0, 0, 0, 0.3));\n",
              "      fill: #FFFFFF;\n",
              "    }\n",
              "  </style>\n",
              "\n",
              "      <script>\n",
              "        const buttonEl =\n",
              "          document.querySelector('#df-979fb54a-6923-481c-9699-8f2683bf4279 button.colab-df-convert');\n",
              "        buttonEl.style.display =\n",
              "          google.colab.kernel.accessAllowed ? 'block' : 'none';\n",
              "\n",
              "        async function convertToInteractive(key) {\n",
              "          const element = document.querySelector('#df-979fb54a-6923-481c-9699-8f2683bf4279');\n",
              "          const dataTable =\n",
              "            await google.colab.kernel.invokeFunction('convertToInteractive',\n",
              "                                                     [key], {});\n",
              "          if (!dataTable) return;\n",
              "\n",
              "          const docLinkHtml = 'Like what you see? Visit the ' +\n",
              "            '<a target=\"_blank\" href=https://colab.research.google.com/notebooks/data_table.ipynb>data table notebook</a>'\n",
              "            + ' to learn more about interactive tables.';\n",
              "          element.innerHTML = '';\n",
              "          dataTable['output_type'] = 'display_data';\n",
              "          await google.colab.output.renderOutput(dataTable, element);\n",
              "          const docLink = document.createElement('div');\n",
              "          docLink.innerHTML = docLinkHtml;\n",
              "          element.appendChild(docLink);\n",
              "        }\n",
              "      </script>\n",
              "    </div>\n",
              "  </div>\n",
              "  "
            ],
            "text/plain": [
              "     linearReg     Dtree       KNN  RandomForest       XGB  RidgeReg  LassoReg\n",
              "10%   0.844021  0.821429  0.775148      0.925175  0.896647  0.844022  0.845066\n",
              "20%   0.818840  0.863060  0.765200      0.884362  0.871625  0.818841  0.823083\n",
              "30%   0.816649  0.803957  0.727617      0.874296  0.874082  0.816649  0.807917\n",
              "40%   0.806366  0.773747  0.704248      0.865565  0.871886  0.806365  0.789685\n",
              "50%   0.809938  0.758224  0.706911      0.862220  0.872877  0.809938  0.795110\n",
              "60%   0.803902  0.715298  0.694670      0.832892  0.844831  0.803901  0.789138\n",
              "70%   0.802824  0.638236  0.688456      0.827557  0.829845  0.802823  0.785937\n",
              "80%   0.799398  0.724222  0.685345      0.833843  0.815296  0.799407  0.794889\n",
              "90%   0.792361  0.725957  0.642379      0.759723  0.789021  0.792397  0.787234"
            ]
          },
          "execution_count": 87,
          "metadata": {},
          "output_type": "execute_result"
        }
      ]
    },
    {
      "cell_type": "code",
      "source": [],
      "metadata": {
        "id": "5KJRP77rc_vO"
      },
      "execution_count": 87,
      "outputs": []
    }
  ],
  "metadata": {
    "colab": {
      "provenance": []
    },
    "kernelspec": {
      "display_name": "Python 3",
      "name": "python3"
    },
    "language_info": {
      "name": "python"
    }
  },
  "nbformat": 4,
  "nbformat_minor": 0
}